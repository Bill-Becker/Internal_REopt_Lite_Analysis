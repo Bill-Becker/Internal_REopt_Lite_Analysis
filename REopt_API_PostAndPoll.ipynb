{
 "cells": [
  {
   "cell_type": "markdown",
   "metadata": {},
   "source": [
    "# Run REopt API located on localhost or NREL server"
   ]
  },
  {
   "cell_type": "markdown",
   "metadata": {},
   "source": [
    "## Initialization"
   ]
  },
  {
   "cell_type": "code",
   "execution_count": 1,
   "metadata": {
    "scrolled": false
   },
   "outputs": [],
   "source": [
    "%matplotlib notebook\n",
    "import pandas as pd\n",
    "import numpy as np\n",
    "import json\n",
    "import requests\n",
    "import matplotlib.pyplot as plt\n",
    "import copy\n",
    "import os\n",
    "from results_poller import reo_optimize"
   ]
  },
  {
   "cell_type": "markdown",
   "metadata": {},
   "source": [
    "## Load a previously saved API response .json file instead of running REopt"
   ]
  },
  {
   "cell_type": "code",
   "execution_count": 2,
   "metadata": {},
   "outputs": [],
   "source": [
    "response_json = 'response_1'\n",
    "with open('saved_responses/' + response_json + '.json', 'rb') as handle:\n",
    "    api_response = json.load(handle)"
   ]
  },
  {
   "cell_type": "markdown",
   "metadata": {},
   "source": [
    "## Scenario Inputs (Post), if wanting to do a new API call"
   ]
  },
  {
   "cell_type": "code",
   "execution_count": 12,
   "metadata": {},
   "outputs": [],
   "source": [
    "post_1 = {\n",
    "  \"Scenario\": {\n",
    "    \"timeout_seconds\": 400,\n",
    "    \"optimality_tolerance_techs\": 0.001,\n",
    "    \"time_steps_per_hour\": 1,\n",
    "    \"Site\": {\n",
    "      \"latitude\": 37.78,\n",
    "      \"longitude\": -122.45,\n",
    "      \"address\": \"\",\n",
    "      \"land_acres\": None,\n",
    "      \"roof_squarefeet\": None,\n",
    "      \"elevation_ft\": 700.0,\n",
    "      \"Financial\": {\n",
    "        \"om_cost_escalation_pct\": 0.025,\n",
    "        \"escalation_pct\": 0.023,\n",
    "        \"boiler_fuel_escalation_pct\": 0.034,\n",
    "        \"offtaker_tax_pct\": 0.26,\n",
    "        \"offtaker_discount_pct\": 0.083,\n",
    "        \"third_party_ownership\": False,\n",
    "        \"owner_tax_pct\": 0.26,\n",
    "        \"owner_discount_pct\": 0.083,\n",
    "        \"analysis_years\": 25,\n",
    "        \"value_of_lost_load_us_dollars_per_kwh\": 100.0,\n",
    "        \"microgrid_upgrade_cost_pct\": 0.3\n",
    "      },\n",
    "      \"LoadProfile\": {\n",
    "        \"doe_reference_name\": \"Hospital\",\n",
    "      },\n",
    "      \"LoadProfileBoilerFuel\": {\n",
    "        \"doe_reference_name\": \"Hospital\"\n",
    "      },\n",
    "      \"LoadProfileChillerThermal\": {\n",
    "        \"doe_reference_name\": \"Hospital\"\n",
    "      },      \n",
    "      \"ElectricTariff\": {\n",
    "        \"net_metering_limit_kw\": 0.0,\n",
    "        \"interconnection_limit_kw\": 100000000.0,\n",
    "        \"urdb_label\": \"5e1676e95457a3f87673e3b0\"\n",
    "      },\n",
    "      \"FuelTariff\": {\n",
    "        \"existing_boiler_fuel_type\": \"natural_gas\",\n",
    "        \"boiler_fuel_blended_annual_rates_us_dollars_per_mmbtu\": 11.0\n",
    "      },\n",
    "      \"GHP\": {\n",
    "        \"building_sqft\": 50000.0,\n",
    "        \"force_ghp\": True\n",
    "      },\n",
    "      \"PV\": {\n",
    "        \"max_kw\": 0.0\n",
    "      },\n",
    "      \"Storage\": {\n",
    "        \"max_kw\": 0.0,\n",
    "        \"max_kwh\": 0.0\n",
    "      }\n",
    "    }\n",
    "  }\n",
    "}"
   ]
  },
  {
   "cell_type": "markdown",
   "metadata": {},
   "source": [
    "## Save the post to a .json file for sharing or future loading in"
   ]
  },
  {
   "cell_type": "code",
   "execution_count": 13,
   "metadata": {},
   "outputs": [],
   "source": [
    "# Convert python dictionary post into json and save to a .json file\n",
    "post_save = post_1\n",
    "with open(\"saved_posts/\" + 'post_1.json', 'w') as fp:\n",
    "    json.dump(post_save, fp)"
   ]
  },
  {
   "cell_type": "markdown",
   "metadata": {},
   "source": [
    "## Or load in a saved .json file for the post"
   ]
  },
  {
   "cell_type": "code",
   "execution_count": 4,
   "metadata": {
    "scrolled": true
   },
   "outputs": [],
   "source": [
    "# Load a json into a python dictionary\n",
    "load_post = \"post_1\"\n",
    "with open(\"saved_posts/\" + load_post + \".json\", 'r') as fp:\n",
    "    post_1 = json.load(fp)"
   ]
  },
  {
   "source": [
    "### Enter the root_url based on the \"location\" of the server that's hosting the API\n",
    "### and your API key from developer.nrel.gov"
   ],
   "cell_type": "markdown",
   "metadata": {}
  },
  {
   "source": [
    "root_url = \"http://localhost:8000\"\n",
    "API_KEY = \"uaz52dr5KTT5Qs5U72rS70hw3IYeHVEyAaDUFQvo\""
   ],
   "cell_type": "code",
   "metadata": {},
   "execution_count": 15,
   "outputs": []
  },
  {
   "source": [
    "## POST and poll (period GET request) API to get a new result, if not loading in a previous response\n",
    "## ...This may take a while!"
   ],
   "cell_type": "markdown",
   "metadata": {}
  },
  {
   "cell_type": "code",
   "execution_count": 16,
   "metadata": {
    "scrolled": true
   },
   "outputs": [
    {
     "output_type": "stream",
     "name": "stdout",
     "text": [
      "Response OK from http://localhost:8000/v1/job/?api_key=uaz52dr5KTT5Qs5U72rS70hw3IYeHVEyAaDUFQvo.\nPolling http://localhost:8000/v1/job/6d961321-a86a-42fa-99a1-07fc8d504306/results/?api_key=uaz52dr5KTT5Qs5U72rS70hw3IYeHVEyAaDUFQvo for results with interval of 10s...\n"
     ]
    }
   ],
   "source": [
    "api_response = reo_optimize(post_1, API_KEY, root_url)"
   ]
  },
  {
   "source": [
    "### If you get disconnected from the polling function but you think it ran, \n",
    "### copy the run_uuid from the log above to manually GET the results:"
   ],
   "cell_type": "markdown",
   "metadata": {}
  },
  {
   "cell_type": "code",
   "execution_count": 10,
   "metadata": {},
   "outputs": [],
   "source": [
    "run_uuid = \"10816148-36c0-4694-a96b-906416c0cc22\"\n",
    "results_url = root_url + '/v1/job/' + run_uuid + '/results/?api_key=' + API_KEY\n",
    "resp = requests.get(url=results_url, verify=False)\n",
    "api_response = json.loads(resp.text)"
   ]
  },
  {
   "source": [
    "## Get summary of results"
   ],
   "cell_type": "markdown",
   "metadata": {}
  },
  {
   "cell_type": "code",
   "execution_count": 24,
   "metadata": {},
   "outputs": [
    {
     "output_type": "stream",
     "name": "stdout",
     "text": [
      "NPV ($) =  -2820472.0\nCapital Cost, Net ($) =  6534199.48\nPV size_kw  =  0.0\nStorage size_kw  =  0.0\nStorage size_kwh  =  0.0\nGHX Number of Boreholes =  1086.0\nGHP Heat Pump Capacity (ton) =  463.345\n"
     ]
    }
   ],
   "source": [
    "print(\"NPV ($) = \", api_response[\"outputs\"][\"Scenario\"][\"Site\"][\"Financial\"][\"npv_us_dollars\"])\n",
    "print(\"Capital Cost, Net ($) = \", api_response[\"outputs\"][\"Scenario\"][\"Site\"][\"Financial\"][\"net_capital_costs\"])\n",
    "tech_list = [\"PV\", \"Wind\", \"Storage\", \"CHP\", \"Generator\", \"HotTES\", \"ColdTES\", \"AbsorptionChiller\", \"GHP\", \"NewBoiler\", \"SteamTurbine\"]\n",
    "for tech in tech_list:\n",
    "    if tech in post_1[\"Scenario\"][\"Site\"].keys():\n",
    "        if tech == \"GHP\":\n",
    "            print(\"GHX Number of Boreholes = \", api_response[\"outputs\"][\"Scenario\"][\"Site\"][tech][\"ghpghx_chosen_outputs\"].get(\"number_of_boreholes\"))\n",
    "            print(\"GHP Heat Pump Capacity (ton) = \", api_response[\"outputs\"][\"Scenario\"][\"Site\"][tech][\"ghpghx_chosen_outputs\"].get(\"peak_combined_heatpump_thermal_ton\"))\n",
    "        else:\n",
    "            for size_name_value in [(key, val) for key, val in api_response[\"outputs\"][\"Scenario\"][\"Site\"][tech].items() if \"size\" in key]:\n",
    "                print(tech + \" \" + size_name_value[0], \" = \", size_name_value[1])"
   ]
  },
  {
   "cell_type": "markdown",
   "metadata": {},
   "source": [
    "## Do some custom response/results data processing"
   ]
  },
  {
   "cell_type": "code",
   "execution_count": null,
   "metadata": {},
   "outputs": [],
   "source": []
  },
  {
   "cell_type": "code",
   "execution_count": null,
   "metadata": {},
   "outputs": [],
   "source": []
  },
  {
   "cell_type": "markdown",
   "metadata": {},
   "source": [
    "## Save API response and scenario data into a .pickle file for later use"
   ]
  },
  {
   "cell_type": "code",
   "execution_count": 27,
   "metadata": {},
   "outputs": [],
   "source": [
    "response_save = api_response\n",
    "file_name_to_save = \"response_1\"\n",
    "with open(\"saved_responses/\" + file_name_to_save + \".json\", 'w') as fp:\n",
    "    json.dump(response_save, fp)"
   ]
  },
  {
   "cell_type": "code",
   "execution_count": null,
   "metadata": {},
   "outputs": [],
   "source": []
  }
 ],
 "metadata": {
  "@webio": {
   "lastCommId": null,
   "lastKernelId": null
  },
  "kernelspec": {
   "name": "python371jvsc74a57bd097ae724bfa85b9b34df7982b8bb8c7216f435b92902d749e4263f71162bea840",
   "display_name": "Python 3.7.1 64-bit ('base': conda)"
  },
  "language_info": {
   "codemirror_mode": {
    "name": "ipython",
    "version": 3
   },
   "file_extension": ".py",
   "mimetype": "text/x-python",
   "name": "python",
   "nbconvert_exporter": "python",
   "pygments_lexer": "ipython3",
   "version": "3.7.1"
  },
  "latex_envs": {
   "LaTeX_envs_menu_present": true,
   "autoclose": false,
   "autocomplete": true,
   "bibliofile": "biblio.bib",
   "cite_by": "apalike",
   "current_citInitial": 1,
   "eqLabelWithNumbers": true,
   "eqNumInitial": 1,
   "hotkeys": {
    "equation": "Ctrl-E",
    "itemize": "Ctrl-I"
   },
   "labels_anchors": false,
   "latex_user_defs": false,
   "report_style_numbering": false,
   "user_envs_cfg": false
  }
 },
 "nbformat": 4,
 "nbformat_minor": 2
}