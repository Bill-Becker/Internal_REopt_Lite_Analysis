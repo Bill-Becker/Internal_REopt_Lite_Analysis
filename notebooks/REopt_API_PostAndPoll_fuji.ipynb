{
 "cells": [
  {
   "cell_type": "markdown",
   "metadata": {},
   "source": [
    "# REopt API post and polling with localhost or NREL server"
   ]
  },
  {
   "cell_type": "markdown",
   "metadata": {},
   "source": [
    "## Initialization"
   ]
  },
  {
   "cell_type": "code",
   "execution_count": 1,
   "metadata": {
    "scrolled": false
   },
   "outputs": [],
   "source": [
    "%matplotlib notebook\n",
    "from results_poller import results_plots, reo_optimize, reo_optimize_chpstaging, reo_optimize_localhost, reo_optimize_development\n",
    "import pandas as pd\n",
    "import numpy as np\n",
    "import pickle\n",
    "import json\n",
    "import requests\n",
    "import matplotlib.pyplot as plt\n",
    "import copy\n",
    "import os"
   ]
  },
  {
   "cell_type": "markdown",
   "metadata": {},
   "source": [
    "## Load a .pickle file to get previously saved API response"
   ]
  },
  {
   "cell_type": "code",
   "execution_count": null,
   "metadata": {},
   "outputs": [],
   "source": [
    "save_directory = 'saved_results/'\n",
    "pickle_file = 'pickle_file_test_1'\n",
    "with open(save_directory + pickle_file + '.pickle', 'rb') as handle:\n",
    "    api_response = pickle.load(handle)"
   ]
  },
  {
   "cell_type": "markdown",
   "metadata": {},
   "source": [
    "## Scenario Inputs (Post), if wanting to do a new API call"
   ]
  },
  {
   "cell_type": "code",
   "execution_count": 8,
   "metadata": {},
   "outputs": [],
   "source": [
    "#elecloads = list(pd.read_csv(r'C:\\Users\\dolis\\Documents\\Projects\\Marines ERCIP Japan\\Camp Fuji\\REopt\\fuji_elecprofile.csv', header = 0))\n",
    "elecloads = list(pd.read_csv(r'C:\\Users\\dolis\\Documents\\Projects\\Marines ERCIP Japan\\Camp Fuji\\REopt\\fuji_elecprofile-test.csv', header = None).iloc[:,0])\n",
    "heatloads = list(pd.read_csv(r'C:\\Users\\dolis\\Documents\\Projects\\Marines ERCIP Japan\\Camp Fuji\\REopt\\load_profile_template_fuji_fuels-test.csv', header = 0).iloc[:,1])\n",
    "tou_elec_energy = list(pd.read_csv(r'C:\\Users\\dolis\\Documents\\Projects\\Marines ERCIP Japan\\Camp Fuji\\REopt\\fujiTOU-test.csv', header = None).iloc[:,0])"
   ]
  },
  {
   "cell_type": "code",
   "execution_count": 35,
   "metadata": {},
   "outputs": [],
   "source": [
    "post_fuji = {\n",
    "  \"Scenario\": {\n",
    "    \"timeout_seconds\": 400,\n",
    "    \"optimality_tolerance_techs\": 0.01,\n",
    "    \"Site\": {\n",
    "      \"latitude\": 35.31,\n",
    "      \"longitude\": 138.87,\n",
    "      \"address\": \"\",\n",
    "      \"land_acres\": None,\n",
    "      \"roof_squarefeet\": None,\n",
    "      \"elevation_ft\": 0.0,\n",
    "      \"Financial\": {\n",
    "        \"om_cost_escalation_pct\": 0.0,\n",
    "        #\"escalation_pct\": 0.0203,\n",
    "         \"escalation_pct\": 0.0,\n",
    "        \"boiler_fuel_escalation_pct\": 0.0436,\n",
    "        \"chp_fuel_escalation_pct\": 0.0436,\n",
    "        \"offtaker_tax_pct\": 0.0,\n",
    "       # \"offtaker_discount_pct\": 0.030,\n",
    "        \"offtaker_discount_pct\": 0.0,\n",
    "        \"third_party_ownership\": False,\n",
    "        \"owner_tax_pct\": 0.0,\n",
    "        \"owner_discount_pct\": 0.0,\n",
    "        \"analysis_years\": 1,\n",
    "        #\"owner_discount_pct\": 0.04,\n",
    "        #\"analysis_years\": 25,\n",
    "        \"value_of_lost_load_us_dollars_per_kwh\": 0,\n",
    "        \"microgrid_upgrade_cost_pct\": 0.0\n",
    "      },\n",
    "      \"LoadProfile\": {\n",
    "#        \"doe_reference_name\": \"Hospital\",\n",
    "#        \"percent_share\": [100.0],\n",
    "#        \"loads_kw\": elecloads,\n",
    "        \"loads_kw\": [1.0]*8760,\n",
    "        \"year\": 2020,\n",
    "        \"loads_kw_is_net\": True,\n",
    "        \"critical_loads_kw_is_net\": False,\n",
    "        \"outage_start_hour\": None,\n",
    "        \"outage_end_hour\": None,\n",
    "        \"critical_load_pct\": 0.5,\n",
    "        \"outage_is_major_event\": True\n",
    "      },\n",
    "      \"LoadProfileBoilerFuel\": {\n",
    "        \"loads_mmbtu_per_hour\": [0.0]*8760\n",
    "#        \"loads_mmbtu_per_hour\": heatloads\n",
    "#        \"doe_reference_name\": \"Hospital\"\n",
    "      },\n",
    "      \"ElectricTariff\": {\n",
    "        \"urdb_response\": {},\n",
    "        \"net_metering_limit_kw\": 0.0,\n",
    "        \"interconnection_limit_kw\": 100000000.0,\n",
    "        \"chp_standby_rate_us_dollars_per_kw_per_month\": 0.0,\n",
    "        \"chp_does_not_reduce_demand_charges\": False,\n",
    "        \"add_tou_energy_rates_to_urdb_rate\": True,\n",
    "        \"tou_energy_rates_us_dollars_per_kwh\": [0.01]*8760 \n",
    "      },\n",
    "      \"FuelTariff\": {\n",
    "        \"existing_boiler_fuel_type\": \"diesel_oil\",\n",
    "        \"boiler_fuel_blended_annual_rates_us_dollars_per_mmbtu\": 2.96,\n",
    "        \"chp_fuel_type\": \"diesel_oil\",\n",
    "        \"chp_fuel_blended_annual_rates_us_dollars_per_mmbtu\": 2.96\n",
    "      },\n",
    "      \"PV\": {\n",
    "        \"pv_name\": \"\",\n",
    "        \"existing_kw\": 0.0,\n",
    "        \"min_kw\": 0.0,\n",
    "        \"max_kw\": 0.0,\n",
    "        \"macrs_option_years\": 0,\n",
    "        \"macrs_bonus_pct\": 0.0,\n",
    "        \"macrs_itc_reduction\": 0.0,\n",
    "        \"federal_itc_pct\": 0.0\n",
    "      },\n",
    "      \"Storage\": {\n",
    "        \"min_kw\": 0.0,\n",
    "        \"max_kw\": 0,\n",
    "        \"min_kwh\": 0.0,\n",
    "        \"max_kwh\": 0,\n",
    "        \"macrs_option_years\": 0,\n",
    "        \"macrs_bonus_pct\": 0.0,\n",
    "        \"macrs_itc_reduction\": 0.0\n",
    "      },\n",
    "      \"CHP\": {\n",
    "        \"prime_mover\": \"recip_engine\",\n",
    "        \"size_class\": 2,\n",
    "        \"min_kw\": 0,\n",
    "        \"max_kw\": 0,\n",
    "        \"min_allowable_kw\": 0,\n",
    "        \"macrs_option_years\": 0,\n",
    "        \"macrs_bonus_pct\": 0.0,\n",
    "        \"macrs_itc_reduction\": 0.0,\n",
    "        \"federal_itc_pct\": 0.0,\n",
    "        \"state_ibi_pct\": 0.0,\n",
    "        \"state_ibi_max_us_dollars\": 0.0,\n",
    "        \"utility_ibi_pct\": 0.0,\n",
    "        \"utility_ibi_max_us_dollars\": 0.0,\n",
    "        \"federal_rebate_us_dollars_per_kw\": 0.0,\n",
    "        \"state_rebate_us_dollars_per_kw\": 0.0,\n",
    "        \"state_rebate_max_us_dollars\": 0.0,\n",
    "        \"utility_rebate_us_dollars_per_kw\": 0.0,\n",
    "        \"utility_rebate_max_us_dollars\": 0.0,\n",
    "        \"pbi_us_dollars_per_kwh\": 0.0,\n",
    "        \"pbi_max_us_dollars\": 0.0,\n",
    "        \"pbi_years\": 0.0,\n",
    "        \"pbi_system_max_kw\": 0.0,\n",
    "        \"emissions_factor_lb_CO2_per_mmbtu\": 116.9\n",
    "      },\n",
    "      \"Boiler\": {\n",
    "        \"existing_boiler_production_type_steam_or_hw\": \"steam\",\n",
    "        \"boiler_efficiency\": 0.75\n",
    "#        \"emissions_factor_lb_CO2_per_mmbtu\": 116.9\n",
    "      }\n",
    "    },\n",
    "    \"user_uuid\": None,\n",
    "    \"description\": \"\",\n",
    "    \"time_steps_per_hour\": 1,\n",
    "    \"webtool_uuid\": None\n",
    "  }\n",
    "}"
   ]
  },
  {
   "cell_type": "code",
   "execution_count": 62,
   "metadata": {},
   "outputs": [],
   "source": [
    "# Load a json into a python dictionary\n",
    "# This custom rate tarif was used to get the $15.97 monthly demand and then I added the lookback to make it annual peak demand charge\n",
    "with open(r'C:\\Users\\dolis\\Documents\\Projects\\Marines ERCIP Japan\\Camp Fuji\\REopt\\fuji3.json', 'r') as fp:\n",
    "    URDB1 = json.load(fp)\n",
    "post_fuji[\"Scenario\"][\"Site\"][\"ElectricTariff\"][\"urdb_response\"] = URDB1"
   ]
  },
  {
   "cell_type": "code",
   "execution_count": 36,
   "metadata": {},
   "outputs": [],
   "source": [
    "# Load a json into a python dictionary\n",
    "# This custom rate tarif was used to get the $15.97 monthly demand and then I added the lookback to make it annual peak demand charge\n",
    "with open(\"Fuji3.json\", 'r') as fp:\n",
    "    URDB1 = json.load(fp)\n",
    "post_fuji[\"Scenario\"][\"Site\"][\"ElectricTariff\"][\"urdb_response\"] = URDB1\n",
    "post_fuji[\"Scenario\"][\"Site\"][\"ElectricTariff\"][\"urdb_response\"][\"lookbackMonths\"] = [1]*12\n",
    "post_fuji[\"Scenario\"][\"Site\"][\"ElectricTariff\"][\"urdb_response\"][\"lookbackPercent\"] = 1.0\n",
    "post_fuji[\"Scenario\"][\"Site\"][\"ElectricTariff\"][\"urdb_response\"][\"lookbackRange\"] = 0\n",
    "post_fuji[\"Scenario\"][\"Site\"][\"ElectricTariff\"][\"urdb_response\"][\"flatdemandstructure\"] = [[{\"rate\": 15.97}]]\n",
    "post_fuji[\"Scenario\"][\"Site\"][\"ElectricTariff\"][\"urdb_response\"][\"flatdemandmonths\"] = [0]*12\n",
    "post_fuji[\"Scenario\"][\"Site\"][\"LoadProfile\"][\"loads_kw\"][3] = 2.0\n",
    "post_fuji[\"Scenario\"][\"Site\"][\"LoadProfile\"][\"loads_kw\"][8750] = 3.0"
   ]
  },
  {
   "cell_type": "code",
   "execution_count": 5,
   "metadata": {},
   "outputs": [
    {
     "data": {
      "text/plain": [
       "{'energyweekdayschedule': [[1,\n",
       "   1,\n",
       "   1,\n",
       "   1,\n",
       "   1,\n",
       "   1,\n",
       "   1,\n",
       "   1,\n",
       "   1,\n",
       "   1,\n",
       "   1,\n",
       "   1,\n",
       "   1,\n",
       "   1,\n",
       "   1,\n",
       "   1,\n",
       "   1,\n",
       "   1,\n",
       "   1,\n",
       "   1,\n",
       "   1,\n",
       "   1,\n",
       "   1,\n",
       "   1],\n",
       "  [1, 1, 1, 1, 1, 1, 1, 1, 1, 1, 1, 1, 1, 1, 1, 1, 1, 1, 1, 1, 1, 1, 1, 1],\n",
       "  [1, 1, 1, 1, 1, 1, 1, 1, 1, 1, 1, 1, 1, 1, 1, 1, 1, 1, 1, 1, 1, 1, 1, 1],\n",
       "  [1, 1, 1, 1, 1, 1, 1, 1, 1, 1, 1, 1, 1, 1, 1, 1, 1, 1, 1, 1, 1, 1, 1, 1],\n",
       "  [1, 1, 1, 1, 1, 1, 1, 1, 1, 1, 1, 1, 1, 1, 1, 1, 1, 1, 1, 1, 1, 1, 1, 1],\n",
       "  [1, 1, 1, 1, 1, 1, 1, 1, 1, 1, 1, 1, 1, 1, 1, 1, 1, 1, 1, 1, 1, 1, 1, 1],\n",
       "  [1, 1, 1, 1, 1, 1, 1, 1, 1, 1, 1, 1, 1, 1, 1, 1, 1, 1, 1, 1, 1, 1, 1, 1],\n",
       "  [1, 1, 1, 1, 1, 1, 1, 1, 1, 1, 1, 1, 1, 1, 1, 1, 1, 1, 1, 1, 1, 1, 1, 1],\n",
       "  [1, 1, 1, 1, 1, 1, 1, 1, 1, 1, 1, 1, 1, 1, 1, 1, 1, 1, 1, 1, 1, 1, 1, 1],\n",
       "  [1, 1, 1, 1, 1, 1, 1, 1, 1, 1, 1, 1, 1, 1, 1, 1, 1, 1, 1, 1, 1, 1, 1, 1],\n",
       "  [1, 1, 1, 1, 1, 1, 1, 1, 1, 1, 1, 1, 1, 1, 1, 1, 1, 1, 1, 1, 1, 1, 1, 1],\n",
       "  [1, 1, 1, 1, 1, 1, 1, 1, 1, 1, 1, 1, 1, 1, 1, 1, 1, 1, 1, 1, 1, 1, 1, 1]],\n",
       " 'energyweekendschedule': [[1,\n",
       "   1,\n",
       "   1,\n",
       "   1,\n",
       "   1,\n",
       "   1,\n",
       "   1,\n",
       "   1,\n",
       "   1,\n",
       "   1,\n",
       "   1,\n",
       "   1,\n",
       "   1,\n",
       "   1,\n",
       "   1,\n",
       "   1,\n",
       "   1,\n",
       "   1,\n",
       "   1,\n",
       "   1,\n",
       "   1,\n",
       "   1,\n",
       "   1,\n",
       "   1],\n",
       "  [1, 1, 1, 1, 1, 1, 1, 1, 1, 1, 1, 1, 1, 1, 1, 1, 1, 1, 1, 1, 1, 1, 1, 1],\n",
       "  [1, 1, 1, 1, 1, 1, 1, 1, 1, 1, 1, 1, 1, 1, 1, 1, 1, 1, 1, 1, 1, 1, 1, 1],\n",
       "  [1, 1, 1, 1, 1, 1, 1, 1, 1, 1, 1, 1, 1, 1, 1, 1, 1, 1, 1, 1, 1, 1, 1, 1],\n",
       "  [1, 1, 1, 1, 1, 1, 1, 1, 1, 1, 1, 1, 1, 1, 1, 1, 1, 1, 1, 1, 1, 1, 1, 1],\n",
       "  [1, 1, 1, 1, 1, 1, 1, 1, 1, 1, 1, 1, 1, 1, 1, 1, 1, 1, 1, 1, 1, 1, 1, 1],\n",
       "  [1, 1, 1, 1, 1, 1, 1, 1, 1, 1, 1, 1, 1, 1, 1, 1, 1, 1, 1, 1, 1, 1, 1, 1],\n",
       "  [1, 1, 1, 1, 1, 1, 1, 1, 1, 1, 1, 1, 1, 1, 1, 1, 1, 1, 1, 1, 1, 1, 1, 1],\n",
       "  [1, 1, 1, 1, 1, 1, 1, 1, 1, 1, 1, 1, 1, 1, 1, 1, 1, 1, 1, 1, 1, 1, 1, 1],\n",
       "  [1, 1, 1, 1, 1, 1, 1, 1, 1, 1, 1, 1, 1, 1, 1, 1, 1, 1, 1, 1, 1, 1, 1, 1],\n",
       "  [1, 1, 1, 1, 1, 1, 1, 1, 1, 1, 1, 1, 1, 1, 1, 1, 1, 1, 1, 1, 1, 1, 1, 1],\n",
       "  [1, 1, 1, 1, 1, 1, 1, 1, 1, 1, 1, 1, 1, 1, 1, 1, 1, 1, 1, 1, 1, 1, 1, 1]],\n",
       " 'energyratestructure': [[{'rate': 0, 'unit': 'kWh'}],\n",
       "  [{'rate': 0.0, 'unit': 'kWh'}]],\n",
       " 'lookbackMonths': [1, 1, 1, 1, 1, 1, 1, 1, 1, 1, 1, 1],\n",
       " 'lookbackPercent': 1.0,\n",
       " 'lookbackRange': 0,\n",
       " 'flatdemandstructure': [[{'rate': 15.97}]],\n",
       " 'flatdemandmonths': [0, 0, 0, 0, 0, 0, 0, 0, 0, 0, 0, 0]}"
      ]
     },
     "execution_count": 5,
     "metadata": {},
     "output_type": "execute_result"
    }
   ],
   "source": [
    "post_fuji[\"Scenario\"][\"Site\"][\"ElectricTariff\"][\"urdb_response\"]"
   ]
  },
  {
   "cell_type": "markdown",
   "metadata": {},
   "source": [
    "## Save the post to a .json file for sharing or future loading in"
   ]
  },
  {
   "cell_type": "code",
   "execution_count": null,
   "metadata": {},
   "outputs": [],
   "source": [
    "# Convert python dictionary post into json and save to a .json file\n",
    "post_save = api_response['inputs']\n",
    "with open('response_inputs.json', 'w') as fp:\n",
    "    json.dump(post_save, fp)"
   ]
  },
  {
   "cell_type": "markdown",
   "metadata": {},
   "source": [
    "## Or load in a saved .json file for the post"
   ]
  },
  {
   "cell_type": "code",
   "execution_count": 2,
   "metadata": {},
   "outputs": [],
   "source": [
    "chp_sized_response_dir = r\"C:\\Bill\\AMO_Local\\API Benchmarking\\Variable Vs Constant CHP Efficiencies\\mono_chp_sized_posts\"\n",
    "chp_sized_response = {}\n",
    "for filename in os.listdir(chp_sized_response_dir):\n",
    "    chp_sized_response[filename] = json.load(open(os.path.join(chp_sized_response_dir, filename)))"
   ]
  },
  {
   "cell_type": "code",
   "execution_count": null,
   "metadata": {
    "scrolled": true
   },
   "outputs": [],
   "source": [
    "# Load a json into a python dictionary\n",
    "with open(r'C:\\Django\\REopt_Lite_API\\reo\\tests\\posts\\delete_cooling.json', 'r') as fp:\n",
    "    post_1 = json.load(fp)"
   ]
  },
  {
   "cell_type": "markdown",
   "metadata": {},
   "source": [
    "## Post and poll API to get a new result, if not loading in a previous response\n",
    "## ...This may take a while!"
   ]
  },
  {
   "cell_type": "markdown",
   "metadata": {},
   "source": [
    "# Post 1"
   ]
  },
  {
   "cell_type": "markdown",
   "metadata": {},
   "source": [
    "## use reo_optimize_localhost for local/docker-hosted API\n",
    "## use reo_optimize_chpstaging for staging-server hosted API"
   ]
  },
  {
   "cell_type": "code",
   "execution_count": 38,
   "metadata": {
    "scrolled": true
   },
   "outputs": [
    {
     "name": "stdout",
     "output_type": "stream",
     "text": [
      "Response OK from http://localhost:8000/v1/job/?format=json&api_key=uaz52dr5KTT5Qs5U72rS70hw3IYeHVEyAaDUFQvo.\n",
      "Polling http://localhost:8000/v1/job/be023a16-97bc-4dfe-b1b5-560f46cef948/results/?api_key=uaz52dr5KTT5Qs5U72rS70hw3IYeHVEyAaDUFQvo for results with interval of 10s...\n"
     ]
    }
   ],
   "source": [
    "api_response = reo_optimize_localhost(post_fuji)"
   ]
  },
  {
   "cell_type": "code",
   "execution_count": 33,
   "metadata": {},
   "outputs": [
    {
     "data": {
      "text/plain": [
       "'An error occurred. See messages for more.'"
      ]
     },
     "execution_count": 33,
     "metadata": {},
     "output_type": "execute_result"
    }
   ],
   "source": [
    "api_response[\"outputs\"][\"Scenario\"][\"status\"]\n",
    "#api_response[\"messages\"]"
   ]
  },
  {
   "cell_type": "code",
   "execution_count": 34,
   "metadata": {},
   "outputs": [
    {
     "data": {
      "text/plain": [
       "{'warnings': \"{'Default values used for the following:': {'Scenario': 'optimality_tolerance_bau AND add_soc_incentive', 'Scenario>Site': 'outdoor_air_temp_degF', 'Scenario>Site>LoadProfile': 'percent_share', 'Scenario>Site>ElectricTariff': 'add_blended_rates_to_urdb_rate AND wholesale_rate_us_dollars_per_kwh AND wholesale_rate_above_site_load_us_dollars_per_kwh', 'Scenario>Site>FuelTariff': 'boiler_fuel_blended_monthly_rates_us_dollars_per_mmbtu AND chp_fuel_blended_monthly_rates_us_dollars_per_mmbtu', 'Scenario>Site>Wind': 'min_kw AND max_kw AND installed_cost_us_dollars_per_kw AND om_cost_us_dollars_per_kw AND macrs_option_years AND macrs_bonus_pct AND macrs_itc_reduction AND federal_itc_pct AND state_ibi_pct AND state_ibi_max_us_dollars AND utility_ibi_pct AND utility_ibi_max_us_dollars AND federal_rebate_us_dollars_per_kw AND state_rebate_us_dollars_per_kw AND state_rebate_max_us_dollars AND utility_rebate_us_dollars_per_kw AND utility_rebate_max_us_dollars AND pbi_us_dollars_per_kwh AND pbi_max_us_dollars AND pbi_years AND pbi_system_max_kw AND can_net_meter AND can_wholesale AND can_export_beyond_site_load AND can_curtail', 'Scenario>Site>PV': 'installed_cost_us_dollars_per_kw AND om_cost_us_dollars_per_kw AND state_ibi_pct AND state_ibi_max_us_dollars AND utility_ibi_pct AND utility_ibi_max_us_dollars AND federal_rebate_us_dollars_per_kw AND state_rebate_us_dollars_per_kw AND state_rebate_max_us_dollars AND utility_rebate_us_dollars_per_kw AND utility_rebate_max_us_dollars AND pbi_us_dollars_per_kwh AND pbi_max_us_dollars AND pbi_years AND pbi_system_max_kw AND degradation_pct AND azimuth AND losses AND array_type AND module_type AND gcr AND dc_ac_ratio AND inv_eff AND radius AND tilt AND location AND can_net_meter AND can_wholesale AND can_export_beyond_site_load AND can_curtail', 'Scenario>Site>Storage': 'internal_efficiency_pct AND inverter_efficiency_pct AND rectifier_efficiency_pct AND soc_min_pct AND soc_init_pct AND canGridCharge AND installed_cost_us_dollars_per_kw AND installed_cost_us_dollars_per_kwh AND replace_cost_us_dollars_per_kw AND replace_cost_us_dollars_per_kwh AND inverter_replacement_year AND battery_replacement_year AND total_itc_pct AND total_rebate_us_dollars_per_kw AND total_rebate_us_dollars_per_kwh', 'Scenario>Site>Generator': 'existing_kw AND min_kw AND max_kw AND installed_cost_us_dollars_per_kw AND om_cost_us_dollars_per_kw AND om_cost_us_dollars_per_kwh AND diesel_fuel_cost_us_dollars_per_gallon AND fuel_slope_gal_per_kwh AND fuel_intercept_gal_per_hr AND fuel_avail_gal AND min_turn_down_pct AND generator_only_runs_during_grid_outage AND generator_sells_energy_back_to_grid AND macrs_option_years AND macrs_bonus_pct AND macrs_itc_reduction AND federal_itc_pct AND state_ibi_pct AND state_ibi_max_us_dollars AND utility_ibi_pct AND utility_ibi_max_us_dollars AND federal_rebate_us_dollars_per_kw AND state_rebate_us_dollars_per_kw AND state_rebate_max_us_dollars AND utility_rebate_us_dollars_per_kw AND utility_rebate_max_us_dollars AND pbi_us_dollars_per_kwh AND pbi_max_us_dollars AND pbi_years AND pbi_system_max_kw AND can_net_meter AND can_wholesale AND can_export_beyond_site_load AND can_curtail', 'Scenario>Site>CHP': 'om_cost_us_dollars_per_kw AND om_cost_us_dollars_per_hr_per_kw_rated AND use_default_derate AND max_derate_factor AND derate_start_temp_degF AND derate_slope_pct_per_degF AND can_net_meter AND can_wholesale AND can_export_beyond_site_load AND can_curtail', 'Scenario>Site>ColdTES': 'min_gal AND max_gal AND internal_efficiency_pct AND soc_min_pct AND soc_init_pct AND installed_cost_us_dollars_per_gal AND thermal_decay_rate_fraction AND om_cost_us_dollars_per_gal AND macrs_option_years AND macrs_bonus_pct', 'Scenario>Site>HotTES': 'min_gal AND max_gal AND internal_efficiency_pct AND soc_min_pct AND soc_init_pct AND installed_cost_us_dollars_per_gal AND thermal_decay_rate_fraction AND om_cost_us_dollars_per_gal AND macrs_option_years AND macrs_bonus_pct', 'Scenario>Site>Boiler': 'max_thermal_factor_on_peak_load', 'Scenario>Site>ElectricChiller': 'max_thermal_factor_on_peak_load', 'Scenario>Site>AbsorptionChiller': 'min_ton AND max_ton AND chiller_elec_cop AND macrs_option_years AND macrs_bonus_pct', 'Scenario>Site>Financial': 'owner_discount_pct AND owner_tax_pct', 'Scenario>Site>LoadProfileChillerThermal': 'loads_ton'}, 'Emissions Warning': {'error': 'Your site location (138.87,35.31) is more than 5 miles from the nearest emission region. Cannot calculate emissions.'}, 'Deprecations': ['The sustain_hours output will be deprecated soon in favor of bau_sustained_time_steps.', 'outage_start_hour and outage_end_hour will be deprecated soon in favor of outage_start_time_step and outage_end_time_step', 'Avoided outage costs will be deprecated soon from the /results endpoint, but retained at the /resilience_stats endpoint']}\",\n",
       " 'error': 'REopt could not find an optimal solution for these inputs. Please email reopt@nrel.gov with your run_uuid (51a229af-05f3-4328-bfec-bcea549110e7) for support.'}"
      ]
     },
     "execution_count": 34,
     "metadata": {},
     "output_type": "execute_result"
    }
   ],
   "source": [
    "api_response['messages']"
   ]
  },
  {
   "cell_type": "code",
   "execution_count": 39,
   "metadata": {},
   "outputs": [
    {
     "name": "stdout",
     "output_type": "stream",
     "text": [
      "663.0\n",
      "663.0\n",
      "0.0\n"
     ]
    }
   ],
   "source": [
    "print(api_response[\"outputs\"][\"Scenario\"][\"Site\"][\"Financial\"][\"lcc_us_dollars\"])\n",
    "print(api_response[\"outputs\"][\"Scenario\"][\"Site\"][\"Financial\"][\"lcc_bau_us_dollars\"])\n",
    "print(api_response[\"outputs\"][\"Scenario\"][\"Site\"][\"Financial\"][\"net_capital_costs_plus_om_us_dollars\"])"
   ]
  },
  {
   "cell_type": "code",
   "execution_count": 40,
   "metadata": {},
   "outputs": [
    {
     "name": "stdout",
     "output_type": "stream",
     "text": [
      "663.0\n",
      "663.0\n",
      "0.0\n"
     ]
    }
   ],
   "source": [
    "print(api_response[\"outputs\"][\"Scenario\"][\"Site\"][\"Financial\"][\"lcc_us_dollars\"])\n",
    "print(api_response[\"outputs\"][\"Scenario\"][\"Site\"][\"Financial\"][\"lcc_bau_us_dollars\"])\n",
    "print(api_response[\"outputs\"][\"Scenario\"][\"Site\"][\"Financial\"][\"net_capital_costs_plus_om_us_dollars\"])"
   ]
  },
  {
   "cell_type": "code",
   "execution_count": 68,
   "metadata": {},
   "outputs": [
    {
     "name": "stdout",
     "output_type": "stream",
     "text": [
      "Elec peak load = 1 kW\n",
      "Elec mean load = 1 kW\n",
      "Elec annual elec = 8760 kWh\n",
      "Heating peak load = 0.00 MMBtu\n",
      "Heating mean load = 0.00 MMBtu\n"
     ]
    }
   ],
   "source": [
    "load_year = str(api_response['inputs']['Scenario']['Site']['LoadProfile']['year'])\n",
    "dti = pd.date_range( load_year +'-01-01', periods=8760, freq='H')\n",
    "bau_grid_load_less_chiller_hrly = pd.DataFrame(api_response['inputs']['Scenario']['Site']\n",
    "                                               ['LoadProfile']['loads_kw'], index = dti)\n",
    "bau_boiler_load_fuel_hrly = pd.DataFrame(api_response['inputs']['Scenario']['Site']\n",
    "                                         ['LoadProfileBoilerFuel']['loads_mmbtu_per_hour'], index = dti)\n",
    "boiler_eff = api_response['inputs']['Scenario']['Site']['Boiler']['boiler_efficiency']\n",
    "bau_grid_load_hrly = bau_grid_load_less_chiller_hrly\n",
    "bau_grid_load_peak = np.max(bau_grid_load_hrly)\n",
    "bau_grid_load_mean = np.mean(bau_grid_load_hrly)\n",
    "bau_grid_load_total = np.sum(bau_grid_load_hrly)\n",
    "bau_therm_load_peak = np.max(bau_boiler_load_fuel_hrly)*boiler_eff #converted units of fuel to units of heat\n",
    "bau_therm_load_mean = np.mean(bau_boiler_load_fuel_hrly)*boiler_eff\n",
    "bau_therm_load_total = np.sum(bau_boiler_load_fuel_hrly)*boiler_eff\n",
    "\n",
    "print(\"Elec peak load =\", '%.0f' %bau_grid_load_peak, \"kW\")\n",
    "print(\"Elec mean load =\", '%.0f' %bau_grid_load_mean, \"kW\")\n",
    "print(\"Elec annual elec =\", '%.0f' %bau_grid_load_total, \"kWh\")\n",
    "print(\"Heating peak load =\", '%.2f' %bau_therm_load_peak, \"MMBtu\")\n",
    "print(\"Heating mean load =\", '%.2f' %bau_therm_load_mean, \"MMBtu\")\n"
   ]
  },
  {
   "cell_type": "code",
   "execution_count": 3,
   "metadata": {},
   "outputs": [],
   "source": [
    "chp_fixed_size_post = {}\n",
    "for name, post in chp_sized_response.items():\n",
    "    chp_fixed_size_post[name] = post['inputs'].copy()\n",
    "    chp_fixed_size_post[name][\"Scenario\"][\"timeout_seconds\"] = 300\n",
    "    chp_fixed_size_post[name][\"Scenario\"][\"optimality_tolerance_techs\"] = 0.01\n",
    "    chp_size = post[\"outputs\"][\"Scenario\"][\"Site\"][\"CHP\"][\"size_kw\"]\n",
    "    chp_fixed_size_post[name][\"Scenario\"][\"Site\"][\"CHP\"][\"min_kw\"] = chp_size\n",
    "    chp_fixed_size_post[name][\"Scenario\"][\"Site\"][\"CHP\"][\"max_kw\"] = chp_size\n",
    "    chp_fixed_size_post[name][\"Scenario\"][\"Site\"][\"CHP\"][\"elec_effic_full_load\"] = 0.32\n",
    "    chp_fixed_size_post[name][\"Scenario\"][\"Site\"][\"CHP\"][\"elec_effic_half_load\"] = 0.28845\n",
    "    chp_fixed_size_post[name][\"Scenario\"][\"Site\"][\"CHP\"][\"thermal_effic_full_load\"] = 0.4925\n",
    "    chp_fixed_size_post[name][\"Scenario\"][\"Site\"][\"CHP\"][\"thermal_effic_half_load\"] = 0.51573"
   ]
  },
  {
   "cell_type": "code",
   "execution_count": 4,
   "metadata": {},
   "outputs": [
    {
     "name": "stderr",
     "output_type": "stream",
     "text": [
      "C:\\Anaconda3\\lib\\site-packages\\urllib3\\connectionpool.py:847: InsecureRequestWarning: Unverified HTTPS request is being made. Adding certificate verification is strongly advised. See: https://urllib3.readthedocs.io/en/latest/advanced-usage.html#ssl-warnings\n",
      "  InsecureRequestWarning)\n"
     ]
    },
    {
     "name": "stdout",
     "output_type": "stream",
     "text": [
      "Response OK from https://reopt-dev-api1.nrel.gov/v1/job/?format=json&api_key=uaz52dr5KTT5Qs5U72rS70hw3IYeHVEyAaDUFQvo.\n",
      "Polling https://reopt-dev-api1.nrel.gov/v1/job/bd63200f-a1cf-47cc-be93-cdab58c57710/results/?api_key=uaz52dr5KTT5Qs5U72rS70hw3IYeHVEyAaDUFQvo for results with interval of 60s...\n"
     ]
    },
    {
     "name": "stderr",
     "output_type": "stream",
     "text": [
      "C:\\Anaconda3\\lib\\site-packages\\urllib3\\connectionpool.py:847: InsecureRequestWarning: Unverified HTTPS request is being made. Adding certificate verification is strongly advised. See: https://urllib3.readthedocs.io/en/latest/advanced-usage.html#ssl-warnings\n",
      "  InsecureRequestWarning)\n",
      "C:\\Anaconda3\\lib\\site-packages\\urllib3\\connectionpool.py:847: InsecureRequestWarning: Unverified HTTPS request is being made. Adding certificate verification is strongly advised. See: https://urllib3.readthedocs.io/en/latest/advanced-usage.html#ssl-warnings\n",
      "  InsecureRequestWarning)\n",
      "C:\\Anaconda3\\lib\\site-packages\\urllib3\\connectionpool.py:847: InsecureRequestWarning: Unverified HTTPS request is being made. Adding certificate verification is strongly advised. See: https://urllib3.readthedocs.io/en/latest/advanced-usage.html#ssl-warnings\n",
      "  InsecureRequestWarning)\n",
      "C:\\Anaconda3\\lib\\site-packages\\urllib3\\connectionpool.py:847: InsecureRequestWarning: Unverified HTTPS request is being made. Adding certificate verification is strongly advised. See: https://urllib3.readthedocs.io/en/latest/advanced-usage.html#ssl-warnings\n",
      "  InsecureRequestWarning)\n",
      "C:\\Anaconda3\\lib\\site-packages\\urllib3\\connectionpool.py:847: InsecureRequestWarning: Unverified HTTPS request is being made. Adding certificate verification is strongly advised. See: https://urllib3.readthedocs.io/en/latest/advanced-usage.html#ssl-warnings\n",
      "  InsecureRequestWarning)\n",
      "C:\\Anaconda3\\lib\\site-packages\\urllib3\\connectionpool.py:847: InsecureRequestWarning: Unverified HTTPS request is being made. Adding certificate verification is strongly advised. See: https://urllib3.readthedocs.io/en/latest/advanced-usage.html#ssl-warnings\n",
      "  InsecureRequestWarning)\n",
      "C:\\Anaconda3\\lib\\site-packages\\urllib3\\connectionpool.py:847: InsecureRequestWarning: Unverified HTTPS request is being made. Adding certificate verification is strongly advised. See: https://urllib3.readthedocs.io/en/latest/advanced-usage.html#ssl-warnings\n",
      "  InsecureRequestWarning)\n"
     ]
    },
    {
     "ename": "SSLError",
     "evalue": "HTTPSConnectionPool(host='reopt-dev-api1.nrel.gov', port=443): Max retries exceeded with url: /v1/job/bd63200f-a1cf-47cc-be93-cdab58c57710/results/?api_key=uaz52dr5KTT5Qs5U72rS70hw3IYeHVEyAaDUFQvo (Caused by SSLError(SSLError(\"bad handshake: Error([('SSL routines', 'tls_process_server_certificate', 'certificate verify failed')])\")))",
     "output_type": "error",
     "traceback": [
      "\u001b[1;31m---------------------------------------------------------------------------\u001b[0m",
      "\u001b[1;31mError\u001b[0m                                     Traceback (most recent call last)",
      "\u001b[1;32mC:\\Anaconda3\\lib\\site-packages\\urllib3\\contrib\\pyopenssl.py\u001b[0m in \u001b[0;36mwrap_socket\u001b[1;34m(self, sock, server_side, do_handshake_on_connect, suppress_ragged_eofs, server_hostname)\u001b[0m\n\u001b[0;32m    452\u001b[0m             \u001b[1;32mtry\u001b[0m\u001b[1;33m:\u001b[0m\u001b[1;33m\u001b[0m\u001b[1;33m\u001b[0m\u001b[0m\n\u001b[1;32m--> 453\u001b[1;33m                 \u001b[0mcnx\u001b[0m\u001b[1;33m.\u001b[0m\u001b[0mdo_handshake\u001b[0m\u001b[1;33m(\u001b[0m\u001b[1;33m)\u001b[0m\u001b[1;33m\u001b[0m\u001b[1;33m\u001b[0m\u001b[0m\n\u001b[0m\u001b[0;32m    454\u001b[0m             \u001b[1;32mexcept\u001b[0m \u001b[0mOpenSSL\u001b[0m\u001b[1;33m.\u001b[0m\u001b[0mSSL\u001b[0m\u001b[1;33m.\u001b[0m\u001b[0mWantReadError\u001b[0m\u001b[1;33m:\u001b[0m\u001b[1;33m\u001b[0m\u001b[1;33m\u001b[0m\u001b[0m\n",
      "\u001b[1;32mC:\\Anaconda3\\lib\\site-packages\\OpenSSL\\SSL.py\u001b[0m in \u001b[0;36mdo_handshake\u001b[1;34m(self)\u001b[0m\n\u001b[0;32m   1906\u001b[0m         \u001b[0mresult\u001b[0m \u001b[1;33m=\u001b[0m \u001b[0m_lib\u001b[0m\u001b[1;33m.\u001b[0m\u001b[0mSSL_do_handshake\u001b[0m\u001b[1;33m(\u001b[0m\u001b[0mself\u001b[0m\u001b[1;33m.\u001b[0m\u001b[0m_ssl\u001b[0m\u001b[1;33m)\u001b[0m\u001b[1;33m\u001b[0m\u001b[1;33m\u001b[0m\u001b[0m\n\u001b[1;32m-> 1907\u001b[1;33m         \u001b[0mself\u001b[0m\u001b[1;33m.\u001b[0m\u001b[0m_raise_ssl_error\u001b[0m\u001b[1;33m(\u001b[0m\u001b[0mself\u001b[0m\u001b[1;33m.\u001b[0m\u001b[0m_ssl\u001b[0m\u001b[1;33m,\u001b[0m \u001b[0mresult\u001b[0m\u001b[1;33m)\u001b[0m\u001b[1;33m\u001b[0m\u001b[1;33m\u001b[0m\u001b[0m\n\u001b[0m\u001b[0;32m   1908\u001b[0m \u001b[1;33m\u001b[0m\u001b[0m\n",
      "\u001b[1;32mC:\\Anaconda3\\lib\\site-packages\\OpenSSL\\SSL.py\u001b[0m in \u001b[0;36m_raise_ssl_error\u001b[1;34m(self, ssl, result)\u001b[0m\n\u001b[0;32m   1638\u001b[0m         \u001b[1;32melse\u001b[0m\u001b[1;33m:\u001b[0m\u001b[1;33m\u001b[0m\u001b[1;33m\u001b[0m\u001b[0m\n\u001b[1;32m-> 1639\u001b[1;33m             \u001b[0m_raise_current_error\u001b[0m\u001b[1;33m(\u001b[0m\u001b[1;33m)\u001b[0m\u001b[1;33m\u001b[0m\u001b[1;33m\u001b[0m\u001b[0m\n\u001b[0m\u001b[0;32m   1640\u001b[0m \u001b[1;33m\u001b[0m\u001b[0m\n",
      "\u001b[1;32mC:\\Anaconda3\\lib\\site-packages\\OpenSSL\\_util.py\u001b[0m in \u001b[0;36mexception_from_error_queue\u001b[1;34m(exception_type)\u001b[0m\n\u001b[0;32m     53\u001b[0m \u001b[1;33m\u001b[0m\u001b[0m\n\u001b[1;32m---> 54\u001b[1;33m     \u001b[1;32mraise\u001b[0m \u001b[0mexception_type\u001b[0m\u001b[1;33m(\u001b[0m\u001b[0merrors\u001b[0m\u001b[1;33m)\u001b[0m\u001b[1;33m\u001b[0m\u001b[1;33m\u001b[0m\u001b[0m\n\u001b[0m\u001b[0;32m     55\u001b[0m \u001b[1;33m\u001b[0m\u001b[0m\n",
      "\u001b[1;31mError\u001b[0m: [('SSL routines', 'tls_process_server_certificate', 'certificate verify failed')]",
      "\nDuring handling of the above exception, another exception occurred:\n",
      "\u001b[1;31mSSLError\u001b[0m                                  Traceback (most recent call last)",
      "\u001b[1;32mC:\\Anaconda3\\lib\\site-packages\\urllib3\\connectionpool.py\u001b[0m in \u001b[0;36murlopen\u001b[1;34m(self, method, url, body, headers, retries, redirect, assert_same_host, timeout, pool_timeout, release_conn, chunked, body_pos, **response_kw)\u001b[0m\n\u001b[0;32m    599\u001b[0m                                                   \u001b[0mbody\u001b[0m\u001b[1;33m=\u001b[0m\u001b[0mbody\u001b[0m\u001b[1;33m,\u001b[0m \u001b[0mheaders\u001b[0m\u001b[1;33m=\u001b[0m\u001b[0mheaders\u001b[0m\u001b[1;33m,\u001b[0m\u001b[1;33m\u001b[0m\u001b[1;33m\u001b[0m\u001b[0m\n\u001b[1;32m--> 600\u001b[1;33m                                                   chunked=chunked)\n\u001b[0m\u001b[0;32m    601\u001b[0m \u001b[1;33m\u001b[0m\u001b[0m\n",
      "\u001b[1;32mC:\\Anaconda3\\lib\\site-packages\\urllib3\\connectionpool.py\u001b[0m in \u001b[0;36m_make_request\u001b[1;34m(self, conn, method, url, timeout, chunked, **httplib_request_kw)\u001b[0m\n\u001b[0;32m    342\u001b[0m         \u001b[1;32mtry\u001b[0m\u001b[1;33m:\u001b[0m\u001b[1;33m\u001b[0m\u001b[1;33m\u001b[0m\u001b[0m\n\u001b[1;32m--> 343\u001b[1;33m             \u001b[0mself\u001b[0m\u001b[1;33m.\u001b[0m\u001b[0m_validate_conn\u001b[0m\u001b[1;33m(\u001b[0m\u001b[0mconn\u001b[0m\u001b[1;33m)\u001b[0m\u001b[1;33m\u001b[0m\u001b[1;33m\u001b[0m\u001b[0m\n\u001b[0m\u001b[0;32m    344\u001b[0m         \u001b[1;32mexcept\u001b[0m \u001b[1;33m(\u001b[0m\u001b[0mSocketTimeout\u001b[0m\u001b[1;33m,\u001b[0m \u001b[0mBaseSSLError\u001b[0m\u001b[1;33m)\u001b[0m \u001b[1;32mas\u001b[0m \u001b[0me\u001b[0m\u001b[1;33m:\u001b[0m\u001b[1;33m\u001b[0m\u001b[1;33m\u001b[0m\u001b[0m\n",
      "\u001b[1;32mC:\\Anaconda3\\lib\\site-packages\\urllib3\\connectionpool.py\u001b[0m in \u001b[0;36m_validate_conn\u001b[1;34m(self, conn)\u001b[0m\n\u001b[0;32m    838\u001b[0m         \u001b[1;32mif\u001b[0m \u001b[1;32mnot\u001b[0m \u001b[0mgetattr\u001b[0m\u001b[1;33m(\u001b[0m\u001b[0mconn\u001b[0m\u001b[1;33m,\u001b[0m \u001b[1;34m'sock'\u001b[0m\u001b[1;33m,\u001b[0m \u001b[1;32mNone\u001b[0m\u001b[1;33m)\u001b[0m\u001b[1;33m:\u001b[0m  \u001b[1;31m# AppEngine might not have  `.sock`\u001b[0m\u001b[1;33m\u001b[0m\u001b[1;33m\u001b[0m\u001b[0m\n\u001b[1;32m--> 839\u001b[1;33m             \u001b[0mconn\u001b[0m\u001b[1;33m.\u001b[0m\u001b[0mconnect\u001b[0m\u001b[1;33m(\u001b[0m\u001b[1;33m)\u001b[0m\u001b[1;33m\u001b[0m\u001b[1;33m\u001b[0m\u001b[0m\n\u001b[0m\u001b[0;32m    840\u001b[0m \u001b[1;33m\u001b[0m\u001b[0m\n",
      "\u001b[1;32mC:\\Anaconda3\\lib\\site-packages\\urllib3\\connection.py\u001b[0m in \u001b[0;36mconnect\u001b[1;34m(self)\u001b[0m\n\u001b[0;32m    343\u001b[0m             \u001b[0mserver_hostname\u001b[0m\u001b[1;33m=\u001b[0m\u001b[0mserver_hostname\u001b[0m\u001b[1;33m,\u001b[0m\u001b[1;33m\u001b[0m\u001b[1;33m\u001b[0m\u001b[0m\n\u001b[1;32m--> 344\u001b[1;33m             ssl_context=context)\n\u001b[0m\u001b[0;32m    345\u001b[0m \u001b[1;33m\u001b[0m\u001b[0m\n",
      "\u001b[1;32mC:\\Anaconda3\\lib\\site-packages\\urllib3\\util\\ssl_.py\u001b[0m in \u001b[0;36mssl_wrap_socket\u001b[1;34m(sock, keyfile, certfile, cert_reqs, ca_certs, server_hostname, ssl_version, ciphers, ssl_context, ca_cert_dir)\u001b[0m\n\u001b[0;32m    343\u001b[0m         \u001b[1;32mif\u001b[0m \u001b[0mHAS_SNI\u001b[0m \u001b[1;32mand\u001b[0m \u001b[0mserver_hostname\u001b[0m \u001b[1;32mis\u001b[0m \u001b[1;32mnot\u001b[0m \u001b[1;32mNone\u001b[0m\u001b[1;33m:\u001b[0m\u001b[1;33m\u001b[0m\u001b[1;33m\u001b[0m\u001b[0m\n\u001b[1;32m--> 344\u001b[1;33m             \u001b[1;32mreturn\u001b[0m \u001b[0mcontext\u001b[0m\u001b[1;33m.\u001b[0m\u001b[0mwrap_socket\u001b[0m\u001b[1;33m(\u001b[0m\u001b[0msock\u001b[0m\u001b[1;33m,\u001b[0m \u001b[0mserver_hostname\u001b[0m\u001b[1;33m=\u001b[0m\u001b[0mserver_hostname\u001b[0m\u001b[1;33m)\u001b[0m\u001b[1;33m\u001b[0m\u001b[1;33m\u001b[0m\u001b[0m\n\u001b[0m\u001b[0;32m    345\u001b[0m \u001b[1;33m\u001b[0m\u001b[0m\n",
      "\u001b[1;32mC:\\Anaconda3\\lib\\site-packages\\urllib3\\contrib\\pyopenssl.py\u001b[0m in \u001b[0;36mwrap_socket\u001b[1;34m(self, sock, server_side, do_handshake_on_connect, suppress_ragged_eofs, server_hostname)\u001b[0m\n\u001b[0;32m    458\u001b[0m             \u001b[1;32mexcept\u001b[0m \u001b[0mOpenSSL\u001b[0m\u001b[1;33m.\u001b[0m\u001b[0mSSL\u001b[0m\u001b[1;33m.\u001b[0m\u001b[0mError\u001b[0m \u001b[1;32mas\u001b[0m \u001b[0me\u001b[0m\u001b[1;33m:\u001b[0m\u001b[1;33m\u001b[0m\u001b[1;33m\u001b[0m\u001b[0m\n\u001b[1;32m--> 459\u001b[1;33m                 \u001b[1;32mraise\u001b[0m \u001b[0mssl\u001b[0m\u001b[1;33m.\u001b[0m\u001b[0mSSLError\u001b[0m\u001b[1;33m(\u001b[0m\u001b[1;34m'bad handshake: %r'\u001b[0m \u001b[1;33m%\u001b[0m \u001b[0me\u001b[0m\u001b[1;33m)\u001b[0m\u001b[1;33m\u001b[0m\u001b[1;33m\u001b[0m\u001b[0m\n\u001b[0m\u001b[0;32m    460\u001b[0m             \u001b[1;32mbreak\u001b[0m\u001b[1;33m\u001b[0m\u001b[1;33m\u001b[0m\u001b[0m\n",
      "\u001b[1;31mSSLError\u001b[0m: (\"bad handshake: Error([('SSL routines', 'tls_process_server_certificate', 'certificate verify failed')])\",)",
      "\nDuring handling of the above exception, another exception occurred:\n",
      "\u001b[1;31mMaxRetryError\u001b[0m                             Traceback (most recent call last)",
      "\u001b[1;32mC:\\Anaconda3\\lib\\site-packages\\requests\\adapters.py\u001b[0m in \u001b[0;36msend\u001b[1;34m(self, request, stream, timeout, verify, cert, proxies)\u001b[0m\n\u001b[0;32m    448\u001b[0m                     \u001b[0mretries\u001b[0m\u001b[1;33m=\u001b[0m\u001b[0mself\u001b[0m\u001b[1;33m.\u001b[0m\u001b[0mmax_retries\u001b[0m\u001b[1;33m,\u001b[0m\u001b[1;33m\u001b[0m\u001b[1;33m\u001b[0m\u001b[0m\n\u001b[1;32m--> 449\u001b[1;33m                     \u001b[0mtimeout\u001b[0m\u001b[1;33m=\u001b[0m\u001b[0mtimeout\u001b[0m\u001b[1;33m\u001b[0m\u001b[1;33m\u001b[0m\u001b[0m\n\u001b[0m\u001b[0;32m    450\u001b[0m                 )\n",
      "\u001b[1;32mC:\\Anaconda3\\lib\\site-packages\\urllib3\\connectionpool.py\u001b[0m in \u001b[0;36murlopen\u001b[1;34m(self, method, url, body, headers, retries, redirect, assert_same_host, timeout, pool_timeout, release_conn, chunked, body_pos, **response_kw)\u001b[0m\n\u001b[0;32m    637\u001b[0m             retries = retries.increment(method, url, error=e, _pool=self,\n\u001b[1;32m--> 638\u001b[1;33m                                         _stacktrace=sys.exc_info()[2])\n\u001b[0m\u001b[0;32m    639\u001b[0m             \u001b[0mretries\u001b[0m\u001b[1;33m.\u001b[0m\u001b[0msleep\u001b[0m\u001b[1;33m(\u001b[0m\u001b[1;33m)\u001b[0m\u001b[1;33m\u001b[0m\u001b[1;33m\u001b[0m\u001b[0m\n",
      "\u001b[1;32mC:\\Anaconda3\\lib\\site-packages\\urllib3\\util\\retry.py\u001b[0m in \u001b[0;36mincrement\u001b[1;34m(self, method, url, response, error, _pool, _stacktrace)\u001b[0m\n\u001b[0;32m    397\u001b[0m         \u001b[1;32mif\u001b[0m \u001b[0mnew_retry\u001b[0m\u001b[1;33m.\u001b[0m\u001b[0mis_exhausted\u001b[0m\u001b[1;33m(\u001b[0m\u001b[1;33m)\u001b[0m\u001b[1;33m:\u001b[0m\u001b[1;33m\u001b[0m\u001b[1;33m\u001b[0m\u001b[0m\n\u001b[1;32m--> 398\u001b[1;33m             \u001b[1;32mraise\u001b[0m \u001b[0mMaxRetryError\u001b[0m\u001b[1;33m(\u001b[0m\u001b[0m_pool\u001b[0m\u001b[1;33m,\u001b[0m \u001b[0murl\u001b[0m\u001b[1;33m,\u001b[0m \u001b[0merror\u001b[0m \u001b[1;32mor\u001b[0m \u001b[0mResponseError\u001b[0m\u001b[1;33m(\u001b[0m\u001b[0mcause\u001b[0m\u001b[1;33m)\u001b[0m\u001b[1;33m)\u001b[0m\u001b[1;33m\u001b[0m\u001b[1;33m\u001b[0m\u001b[0m\n\u001b[0m\u001b[0;32m    399\u001b[0m \u001b[1;33m\u001b[0m\u001b[0m\n",
      "\u001b[1;31mMaxRetryError\u001b[0m: HTTPSConnectionPool(host='reopt-dev-api1.nrel.gov', port=443): Max retries exceeded with url: /v1/job/bd63200f-a1cf-47cc-be93-cdab58c57710/results/?api_key=uaz52dr5KTT5Qs5U72rS70hw3IYeHVEyAaDUFQvo (Caused by SSLError(SSLError(\"bad handshake: Error([('SSL routines', 'tls_process_server_certificate', 'certificate verify failed')])\")))",
      "\nDuring handling of the above exception, another exception occurred:\n",
      "\u001b[1;31mSSLError\u001b[0m                                  Traceback (most recent call last)",
      "\u001b[1;32m<ipython-input-4-872d1a866284>\u001b[0m in \u001b[0;36m<module>\u001b[1;34m\u001b[0m\n\u001b[0;32m      3\u001b[0m \u001b[1;32mfor\u001b[0m \u001b[0mname\u001b[0m\u001b[1;33m,\u001b[0m \u001b[0mpost\u001b[0m \u001b[1;32min\u001b[0m \u001b[0mchp_fixed_size_post\u001b[0m\u001b[1;33m.\u001b[0m\u001b[0mitems\u001b[0m\u001b[1;33m(\u001b[0m\u001b[1;33m)\u001b[0m\u001b[1;33m:\u001b[0m\u001b[1;33m\u001b[0m\u001b[1;33m\u001b[0m\u001b[0m\n\u001b[0;32m      4\u001b[0m     \u001b[1;32mif\u001b[0m \u001b[0mname\u001b[0m \u001b[1;32mnot\u001b[0m \u001b[1;32min\u001b[0m \u001b[0mcompleted_runs\u001b[0m\u001b[1;33m:\u001b[0m\u001b[1;33m\u001b[0m\u001b[1;33m\u001b[0m\u001b[0m\n\u001b[1;32m----> 5\u001b[1;33m         \u001b[0mapi_response\u001b[0m \u001b[1;33m=\u001b[0m \u001b[0mreo_optimize_development\u001b[0m\u001b[1;33m(\u001b[0m\u001b[0mpost\u001b[0m\u001b[1;33m)\u001b[0m\u001b[1;33m\u001b[0m\u001b[1;33m\u001b[0m\u001b[0m\n\u001b[0m\u001b[0;32m      6\u001b[0m         \u001b[0mapi_response_copy\u001b[0m \u001b[1;33m=\u001b[0m \u001b[0mapi_response\u001b[0m\u001b[1;33m.\u001b[0m\u001b[0mcopy\u001b[0m\u001b[1;33m(\u001b[0m\u001b[1;33m)\u001b[0m\u001b[1;33m\u001b[0m\u001b[1;33m\u001b[0m\u001b[0m\n\u001b[0;32m      7\u001b[0m         \u001b[1;32mwith\u001b[0m \u001b[0mopen\u001b[0m\u001b[1;33m(\u001b[0m\u001b[0mos\u001b[0m\u001b[1;33m.\u001b[0m\u001b[0mpath\u001b[0m\u001b[1;33m.\u001b[0m\u001b[0mjoin\u001b[0m\u001b[1;33m(\u001b[0m\u001b[0mresults_dir\u001b[0m\u001b[1;33m,\u001b[0m \u001b[0mname\u001b[0m\u001b[1;33m)\u001b[0m\u001b[1;33m,\u001b[0m \u001b[1;34m\"w\"\u001b[0m\u001b[1;33m)\u001b[0m \u001b[1;32mas\u001b[0m \u001b[0moutfile\u001b[0m\u001b[1;33m:\u001b[0m\u001b[1;33m\u001b[0m\u001b[1;33m\u001b[0m\u001b[0m\n",
      "\u001b[1;32mC:\\Django\\results_processing\\results_poller.py\u001b[0m in \u001b[0;36mreo_optimize_development\u001b[1;34m(post)\u001b[0m\n\u001b[0;32m    123\u001b[0m             \u001b[0mmsg\u001b[0m \u001b[1;33m=\u001b[0m \u001b[1;34m\"Response from {} did not contain run_uuid.\"\u001b[0m\u001b[1;33m.\u001b[0m\u001b[0mformat\u001b[0m\u001b[1;33m(\u001b[0m\u001b[0mpost_url\u001b[0m\u001b[1;33m)\u001b[0m\u001b[1;33m\u001b[0m\u001b[1;33m\u001b[0m\u001b[0m\n\u001b[0;32m    124\u001b[0m \u001b[1;33m\u001b[0m\u001b[0m\n\u001b[1;32m--> 125\u001b[1;33m         \u001b[1;32mreturn\u001b[0m \u001b[0mpoller\u001b[0m\u001b[1;33m(\u001b[0m\u001b[0murl\u001b[0m\u001b[1;33m=\u001b[0m\u001b[0mresults_url\u001b[0m\u001b[1;33m.\u001b[0m\u001b[0mreplace\u001b[0m\u001b[1;33m(\u001b[0m\u001b[1;34m'<run_uuid>'\u001b[0m\u001b[1;33m,\u001b[0m \u001b[0mrun_id\u001b[0m\u001b[1;33m)\u001b[0m\u001b[1;33m)\u001b[0m\u001b[1;33m\u001b[0m\u001b[1;33m\u001b[0m\u001b[0m\n\u001b[0m\u001b[0;32m    126\u001b[0m \u001b[1;33m\u001b[0m\u001b[0m\n\u001b[0;32m    127\u001b[0m \u001b[1;32mdef\u001b[0m \u001b[0mresults_plots\u001b[0m\u001b[1;33m(\u001b[0m\u001b[0mresults_dict\u001b[0m\u001b[1;33m)\u001b[0m\u001b[1;33m:\u001b[0m\u001b[1;33m\u001b[0m\u001b[1;33m\u001b[0m\u001b[0m\n",
      "\u001b[1;32mC:\\Django\\results_processing\\results_poller.py\u001b[0m in \u001b[0;36mpoller\u001b[1;34m(url, poll_interval)\u001b[0m\n\u001b[0;32m     33\u001b[0m         \u001b[1;32mif\u001b[0m \u001b[0mstatus\u001b[0m \u001b[1;33m!=\u001b[0m \u001b[1;34m\"Optimizing...\"\u001b[0m\u001b[1;33m:\u001b[0m\u001b[1;33m\u001b[0m\u001b[1;33m\u001b[0m\u001b[0m\n\u001b[0;32m     34\u001b[0m             \u001b[0mtime\u001b[0m\u001b[1;33m.\u001b[0m\u001b[0msleep\u001b[0m\u001b[1;33m(\u001b[0m\u001b[1;36m10\u001b[0m\u001b[1;33m)\u001b[0m\u001b[1;33m\u001b[0m\u001b[1;33m\u001b[0m\u001b[0m\n\u001b[1;32m---> 35\u001b[1;33m             \u001b[0mresp\u001b[0m \u001b[1;33m=\u001b[0m \u001b[0mrequests\u001b[0m\u001b[1;33m.\u001b[0m\u001b[0mget\u001b[0m\u001b[1;33m(\u001b[0m\u001b[0murl\u001b[0m\u001b[1;33m=\u001b[0m\u001b[0murl\u001b[0m\u001b[1;33m)\u001b[0m\u001b[1;33m\u001b[0m\u001b[1;33m\u001b[0m\u001b[0m\n\u001b[0m\u001b[0;32m     36\u001b[0m             \u001b[0mresp_dict\u001b[0m \u001b[1;33m=\u001b[0m \u001b[0mjson\u001b[0m\u001b[1;33m.\u001b[0m\u001b[0mloads\u001b[0m\u001b[1;33m(\u001b[0m\u001b[0mresp\u001b[0m\u001b[1;33m.\u001b[0m\u001b[0mtext\u001b[0m\u001b[1;33m)\u001b[0m\u001b[1;33m\u001b[0m\u001b[1;33m\u001b[0m\u001b[0m\n\u001b[0;32m     37\u001b[0m             \u001b[1;32mbreak\u001b[0m\u001b[1;33m\u001b[0m\u001b[1;33m\u001b[0m\u001b[0m\n",
      "\u001b[1;32mC:\\Anaconda3\\lib\\site-packages\\requests\\api.py\u001b[0m in \u001b[0;36mget\u001b[1;34m(url, params, **kwargs)\u001b[0m\n\u001b[0;32m     73\u001b[0m \u001b[1;33m\u001b[0m\u001b[0m\n\u001b[0;32m     74\u001b[0m     \u001b[0mkwargs\u001b[0m\u001b[1;33m.\u001b[0m\u001b[0msetdefault\u001b[0m\u001b[1;33m(\u001b[0m\u001b[1;34m'allow_redirects'\u001b[0m\u001b[1;33m,\u001b[0m \u001b[1;32mTrue\u001b[0m\u001b[1;33m)\u001b[0m\u001b[1;33m\u001b[0m\u001b[1;33m\u001b[0m\u001b[0m\n\u001b[1;32m---> 75\u001b[1;33m     \u001b[1;32mreturn\u001b[0m \u001b[0mrequest\u001b[0m\u001b[1;33m(\u001b[0m\u001b[1;34m'get'\u001b[0m\u001b[1;33m,\u001b[0m \u001b[0murl\u001b[0m\u001b[1;33m,\u001b[0m \u001b[0mparams\u001b[0m\u001b[1;33m=\u001b[0m\u001b[0mparams\u001b[0m\u001b[1;33m,\u001b[0m \u001b[1;33m**\u001b[0m\u001b[0mkwargs\u001b[0m\u001b[1;33m)\u001b[0m\u001b[1;33m\u001b[0m\u001b[1;33m\u001b[0m\u001b[0m\n\u001b[0m\u001b[0;32m     76\u001b[0m \u001b[1;33m\u001b[0m\u001b[0m\n\u001b[0;32m     77\u001b[0m \u001b[1;33m\u001b[0m\u001b[0m\n",
      "\u001b[1;32mC:\\Anaconda3\\lib\\site-packages\\requests\\api.py\u001b[0m in \u001b[0;36mrequest\u001b[1;34m(method, url, **kwargs)\u001b[0m\n\u001b[0;32m     58\u001b[0m     \u001b[1;31m# cases, and look like a memory leak in others.\u001b[0m\u001b[1;33m\u001b[0m\u001b[1;33m\u001b[0m\u001b[1;33m\u001b[0m\u001b[0m\n\u001b[0;32m     59\u001b[0m     \u001b[1;32mwith\u001b[0m \u001b[0msessions\u001b[0m\u001b[1;33m.\u001b[0m\u001b[0mSession\u001b[0m\u001b[1;33m(\u001b[0m\u001b[1;33m)\u001b[0m \u001b[1;32mas\u001b[0m \u001b[0msession\u001b[0m\u001b[1;33m:\u001b[0m\u001b[1;33m\u001b[0m\u001b[1;33m\u001b[0m\u001b[0m\n\u001b[1;32m---> 60\u001b[1;33m         \u001b[1;32mreturn\u001b[0m \u001b[0msession\u001b[0m\u001b[1;33m.\u001b[0m\u001b[0mrequest\u001b[0m\u001b[1;33m(\u001b[0m\u001b[0mmethod\u001b[0m\u001b[1;33m=\u001b[0m\u001b[0mmethod\u001b[0m\u001b[1;33m,\u001b[0m \u001b[0murl\u001b[0m\u001b[1;33m=\u001b[0m\u001b[0murl\u001b[0m\u001b[1;33m,\u001b[0m \u001b[1;33m**\u001b[0m\u001b[0mkwargs\u001b[0m\u001b[1;33m)\u001b[0m\u001b[1;33m\u001b[0m\u001b[1;33m\u001b[0m\u001b[0m\n\u001b[0m\u001b[0;32m     61\u001b[0m \u001b[1;33m\u001b[0m\u001b[0m\n\u001b[0;32m     62\u001b[0m \u001b[1;33m\u001b[0m\u001b[0m\n",
      "\u001b[1;32mC:\\Anaconda3\\lib\\site-packages\\requests\\sessions.py\u001b[0m in \u001b[0;36mrequest\u001b[1;34m(self, method, url, params, data, headers, cookies, files, auth, timeout, allow_redirects, proxies, hooks, stream, verify, cert, json)\u001b[0m\n\u001b[0;32m    531\u001b[0m         }\n\u001b[0;32m    532\u001b[0m         \u001b[0msend_kwargs\u001b[0m\u001b[1;33m.\u001b[0m\u001b[0mupdate\u001b[0m\u001b[1;33m(\u001b[0m\u001b[0msettings\u001b[0m\u001b[1;33m)\u001b[0m\u001b[1;33m\u001b[0m\u001b[1;33m\u001b[0m\u001b[0m\n\u001b[1;32m--> 533\u001b[1;33m         \u001b[0mresp\u001b[0m \u001b[1;33m=\u001b[0m \u001b[0mself\u001b[0m\u001b[1;33m.\u001b[0m\u001b[0msend\u001b[0m\u001b[1;33m(\u001b[0m\u001b[0mprep\u001b[0m\u001b[1;33m,\u001b[0m \u001b[1;33m**\u001b[0m\u001b[0msend_kwargs\u001b[0m\u001b[1;33m)\u001b[0m\u001b[1;33m\u001b[0m\u001b[1;33m\u001b[0m\u001b[0m\n\u001b[0m\u001b[0;32m    534\u001b[0m \u001b[1;33m\u001b[0m\u001b[0m\n\u001b[0;32m    535\u001b[0m         \u001b[1;32mreturn\u001b[0m \u001b[0mresp\u001b[0m\u001b[1;33m\u001b[0m\u001b[1;33m\u001b[0m\u001b[0m\n",
      "\u001b[1;32mC:\\Anaconda3\\lib\\site-packages\\requests\\sessions.py\u001b[0m in \u001b[0;36msend\u001b[1;34m(self, request, **kwargs)\u001b[0m\n\u001b[0;32m    644\u001b[0m \u001b[1;33m\u001b[0m\u001b[0m\n\u001b[0;32m    645\u001b[0m         \u001b[1;31m# Send the request\u001b[0m\u001b[1;33m\u001b[0m\u001b[1;33m\u001b[0m\u001b[1;33m\u001b[0m\u001b[0m\n\u001b[1;32m--> 646\u001b[1;33m         \u001b[0mr\u001b[0m \u001b[1;33m=\u001b[0m \u001b[0madapter\u001b[0m\u001b[1;33m.\u001b[0m\u001b[0msend\u001b[0m\u001b[1;33m(\u001b[0m\u001b[0mrequest\u001b[0m\u001b[1;33m,\u001b[0m \u001b[1;33m**\u001b[0m\u001b[0mkwargs\u001b[0m\u001b[1;33m)\u001b[0m\u001b[1;33m\u001b[0m\u001b[1;33m\u001b[0m\u001b[0m\n\u001b[0m\u001b[0;32m    647\u001b[0m \u001b[1;33m\u001b[0m\u001b[0m\n\u001b[0;32m    648\u001b[0m         \u001b[1;31m# Total elapsed time of the request (approximately)\u001b[0m\u001b[1;33m\u001b[0m\u001b[1;33m\u001b[0m\u001b[1;33m\u001b[0m\u001b[0m\n",
      "\u001b[1;32mC:\\Anaconda3\\lib\\site-packages\\requests\\adapters.py\u001b[0m in \u001b[0;36msend\u001b[1;34m(self, request, stream, timeout, verify, cert, proxies)\u001b[0m\n\u001b[0;32m    512\u001b[0m             \u001b[1;32mif\u001b[0m \u001b[0misinstance\u001b[0m\u001b[1;33m(\u001b[0m\u001b[0me\u001b[0m\u001b[1;33m.\u001b[0m\u001b[0mreason\u001b[0m\u001b[1;33m,\u001b[0m \u001b[0m_SSLError\u001b[0m\u001b[1;33m)\u001b[0m\u001b[1;33m:\u001b[0m\u001b[1;33m\u001b[0m\u001b[1;33m\u001b[0m\u001b[0m\n\u001b[0;32m    513\u001b[0m                 \u001b[1;31m# This branch is for urllib3 v1.22 and later.\u001b[0m\u001b[1;33m\u001b[0m\u001b[1;33m\u001b[0m\u001b[1;33m\u001b[0m\u001b[0m\n\u001b[1;32m--> 514\u001b[1;33m                 \u001b[1;32mraise\u001b[0m \u001b[0mSSLError\u001b[0m\u001b[1;33m(\u001b[0m\u001b[0me\u001b[0m\u001b[1;33m,\u001b[0m \u001b[0mrequest\u001b[0m\u001b[1;33m=\u001b[0m\u001b[0mrequest\u001b[0m\u001b[1;33m)\u001b[0m\u001b[1;33m\u001b[0m\u001b[1;33m\u001b[0m\u001b[0m\n\u001b[0m\u001b[0;32m    515\u001b[0m \u001b[1;33m\u001b[0m\u001b[0m\n\u001b[0;32m    516\u001b[0m             \u001b[1;32mraise\u001b[0m \u001b[0mConnectionError\u001b[0m\u001b[1;33m(\u001b[0m\u001b[0me\u001b[0m\u001b[1;33m,\u001b[0m \u001b[0mrequest\u001b[0m\u001b[1;33m=\u001b[0m\u001b[0mrequest\u001b[0m\u001b[1;33m)\u001b[0m\u001b[1;33m\u001b[0m\u001b[1;33m\u001b[0m\u001b[0m\n",
      "\u001b[1;31mSSLError\u001b[0m: HTTPSConnectionPool(host='reopt-dev-api1.nrel.gov', port=443): Max retries exceeded with url: /v1/job/bd63200f-a1cf-47cc-be93-cdab58c57710/results/?api_key=uaz52dr5KTT5Qs5U72rS70hw3IYeHVEyAaDUFQvo (Caused by SSLError(SSLError(\"bad handshake: Error([('SSL routines', 'tls_process_server_certificate', 'certificate verify failed')])\")))"
     ]
    }
   ],
   "source": [
    "results_dir = r\"C:\\Bill\\AMO_Local\\API Benchmarking\\Variable Vs Constant CHP Efficiencies\\var_effic_fixed_size_response\"\n",
    "completed_runs = [f.name for f in os.scandir(results_dir)]\n",
    "for name, post in chp_fixed_size_post.items():\n",
    "    if name not in completed_runs:\n",
    "        api_response = reo_optimize_development(post)\n",
    "        api_response_copy = api_response.copy()\n",
    "        with open(os.path.join(results_dir, name), \"w\") as outfile:\n",
    "            json.dump(api_response_copy, outfile)\n",
    "        print(\"Error? \", api_response_copy.get('error'))"
   ]
  },
  {
   "cell_type": "code",
   "execution_count": null,
   "metadata": {},
   "outputs": [],
   "source": [
    "# Set up a batch run to look at different CHP+PV+Battery cases with diff CHP inputs\n",
    "iterations = 1\n",
    "prime_movers = [\"recip_engine\"] #, \"micro_turbine\"]\n",
    "size_class = [2]\n",
    "part_load = [\"constant\"] #[\"default\"]\n",
    "tes_list = [\"None\", \"HotTES\", \"ColdTES\", \"Both\"]\n",
    "api_response_dict = {}\n",
    "for pm in prime_movers:\n",
    "    for sc in size_class:\n",
    "        for effic in part_load:\n",
    "            for tes in tes_list:\n",
    "                for iters in range(iterations):\n",
    "                    post = copy.deepcopy(post_1)\n",
    "                    post[\"Scenario\"][\"Site\"][\"CHP\"][\"prime_mover\"] = pm\n",
    "                    post[\"Scenario\"][\"Site\"][\"CHP\"][\"size_class\"] = sc\n",
    "                    if effic == \"constant\":\n",
    "                        post[\"Scenario\"][\"Site\"][\"CHP\"][\"elec_effic_full_load\"] = 0.34\n",
    "                        post[\"Scenario\"][\"Site\"][\"CHP\"][\"elec_effic_half_load\"] = 0.34\n",
    "                        post[\"Scenario\"][\"Site\"][\"CHP\"][\"thermal_effic_full_load\"] = 0.45\n",
    "                        post[\"Scenario\"][\"Site\"][\"CHP\"][\"thermal_effic_half_load\"] = 0.45\n",
    "                    if tes in [\"HotTES\", \"Both\"]:\n",
    "                        #post[\"Scenario\"][\"Site\"][\"HotTES\"][\"min_gal\"] = 30000\n",
    "                        post[\"Scenario\"][\"Site\"][\"HotTES\"][\"max_gal\"] = 500000\n",
    "                    if tes in [\"ColdTES\", \"Both\"]:\n",
    "                        #post[\"Scenario\"][\"Site\"][\"ColdTES\"][\"min_gal\"] = 40000\n",
    "                        post[\"Scenario\"][\"Site\"][\"ColdTES\"][\"max_gal\"] = 500000\n",
    "                    api_response_dict[pm+\"_\"+str(sc)+\"_\"+effic+\"_\"+tes+\"_iter\"+str(iters+1)] = reo_optimize_chpstaging(post)\n",
    "                    print(\"Error? \", api_response_dict[pm+\"_\"+str(sc)+\"_\"+effic+\"_\"+tes+\"_iter\"+str(iters+1)]['messages'].get('error'))"
   ]
  },
  {
   "cell_type": "code",
   "execution_count": 21,
   "metadata": {},
   "outputs": [
    {
     "ename": "NameError",
     "evalue": "name 'api_response_dict' is not defined",
     "output_type": "error",
     "traceback": [
      "\u001b[1;31m---------------------------------------------------------------------------\u001b[0m",
      "\u001b[1;31mNameError\u001b[0m                                 Traceback (most recent call last)",
      "\u001b[1;32m<ipython-input-21-574d9e316fbe>\u001b[0m in \u001b[0;36m<module>\u001b[1;34m\u001b[0m\n\u001b[0;32m      1\u001b[0m \u001b[0mtechs\u001b[0m \u001b[1;33m=\u001b[0m \u001b[1;33m[\u001b[0m\u001b[1;34m\"PV\"\u001b[0m\u001b[1;33m,\u001b[0m \u001b[1;34m\"Storage\"\u001b[0m\u001b[1;33m,\u001b[0m \u001b[1;34m\"CHP\"\u001b[0m\u001b[1;33m,\u001b[0m \u001b[1;34m\"AbsorptionChiller\"\u001b[0m\u001b[1;33m,\u001b[0m \u001b[1;34m\"HotTES\"\u001b[0m\u001b[1;33m,\u001b[0m \u001b[1;34m\"ColdTES\"\u001b[0m\u001b[1;33m,\u001b[0m \u001b[1;34m\"Wind\"\u001b[0m\u001b[1;33m]\u001b[0m\u001b[1;33m\u001b[0m\u001b[1;33m\u001b[0m\u001b[0m\n\u001b[1;32m----> 2\u001b[1;33m \u001b[1;32mfor\u001b[0m \u001b[0mscenario\u001b[0m\u001b[1;33m,\u001b[0m \u001b[0mresp_dict\u001b[0m \u001b[1;32min\u001b[0m \u001b[0mapi_response_dict\u001b[0m\u001b[1;33m.\u001b[0m\u001b[0mitems\u001b[0m\u001b[1;33m(\u001b[0m\u001b[1;33m)\u001b[0m\u001b[1;33m:\u001b[0m\u001b[1;33m\u001b[0m\u001b[1;33m\u001b[0m\u001b[0m\n\u001b[0m\u001b[0;32m      3\u001b[0m     \u001b[0mprint\u001b[0m\u001b[1;33m(\u001b[0m\u001b[0mscenario\u001b[0m \u001b[1;33m+\u001b[0m \u001b[1;34m\":\"\u001b[0m\u001b[1;33m)\u001b[0m\u001b[1;33m\u001b[0m\u001b[1;33m\u001b[0m\u001b[0m\n\u001b[0;32m      4\u001b[0m     \u001b[0mprint\u001b[0m\u001b[1;33m(\u001b[0m\u001b[1;34m\"Error: \"\u001b[0m\u001b[1;33m,\u001b[0m \u001b[0mresp_dict\u001b[0m\u001b[1;33m[\u001b[0m\u001b[1;34m'messages'\u001b[0m\u001b[1;33m]\u001b[0m\u001b[1;33m.\u001b[0m\u001b[0mget\u001b[0m\u001b[1;33m(\u001b[0m\u001b[1;34m'error'\u001b[0m\u001b[1;33m)\u001b[0m\u001b[1;33m)\u001b[0m\u001b[1;33m\u001b[0m\u001b[1;33m\u001b[0m\u001b[0m\n\u001b[0;32m      5\u001b[0m     \u001b[0mprint\u001b[0m\u001b[1;33m(\u001b[0m\u001b[1;34m\"REopt Time (sec): \"\u001b[0m\u001b[1;33m,\u001b[0m \u001b[0mresp_dict\u001b[0m\u001b[1;33m[\u001b[0m\u001b[1;34m\"outputs\"\u001b[0m\u001b[1;33m]\u001b[0m\u001b[1;33m[\u001b[0m\u001b[1;34m\"Scenario\"\u001b[0m\u001b[1;33m]\u001b[0m\u001b[1;33m[\u001b[0m\u001b[1;34m\"Profile\"\u001b[0m\u001b[1;33m]\u001b[0m\u001b[1;33m[\u001b[0m\u001b[1;34m\"reopt_seconds\"\u001b[0m\u001b[1;33m]\u001b[0m\u001b[1;33m)\u001b[0m\u001b[1;33m\u001b[0m\u001b[1;33m\u001b[0m\u001b[0m\n",
      "\u001b[1;31mNameError\u001b[0m: name 'api_response_dict' is not defined"
     ]
    }
   ],
   "source": [
    "techs = [\"PV\", \"Storage\", \"CHP\", \"AbsorptionChiller\", \"HotTES\", \"ColdTES\", \"Wind\"]\n",
    "for scenario, resp_dict in api_response_dict.items():\n",
    "    print(scenario + \":\")\n",
    "    print(\"Error: \", resp_dict['messages'].get('error'))\n",
    "    print(\"REopt Time (sec): \", resp_dict[\"outputs\"][\"Scenario\"][\"Profile\"][\"reopt_seconds\"])\n",
    "    for t in techs:\n",
    "        for key, value in resp_dict['outputs']['Scenario']['Site'][t].items():\n",
    "            if key.startswith(\"size\"):\n",
    "                print(t + \" \" + key + \" = \" + str(resp_dict['outputs']['Scenario']['Site'][t][key]))"
   ]
  },
  {
   "cell_type": "markdown",
   "metadata": {},
   "source": [
    "## Start looking at the response/results data"
   ]
  },
  {
   "cell_type": "code",
   "execution_count": 22,
   "metadata": {},
   "outputs": [
    {
     "name": "stdout",
     "output_type": "stream",
     "text": [
      "PV size_kw = 0.0\n",
      "Storage size_kw = 0.0\n",
      "Storage size_kwh = 0.0\n",
      "CHP size_kw = 0.0\n",
      "AbsorptionChiller size_ton = 0.0\n",
      "HotTES size_gal = 0.0\n",
      "ColdTES size_gal = 0.0\n",
      "Wind size_kw = 0.0\n"
     ]
    },
    {
     "data": {
      "text/plain": [
       "{'pre_setup_scenario_seconds': 0.43248963356018066,\n",
       " 'setup_scenario_seconds': 0.10273456573486328,\n",
       " 'reopt_seconds': 7.0330283641815186,\n",
       " 'reopt_bau_seconds': 2.6039845943450928,\n",
       " 'parse_run_outputs_seconds': 0.3676943778991699,\n",
       " 'julia_input_construction_seconds': 0.006880044937133789,\n",
       " 'julia_reopt_preamble_seconds': 0.00012993812561035156,\n",
       " 'julia_reopt_variables_seconds': 1.2450380325317383,\n",
       " 'julia_reopt_constriants_seconds': 2.2768969535827637,\n",
       " 'julia_reopt_optimize_seconds': 0.37321901321411133,\n",
       " 'julia_reopt_postprocess_seconds': 3.0398640632629395,\n",
       " 'pyjulia_start_seconds': None,\n",
       " 'pyjulia_pkg_seconds': None,\n",
       " 'pyjulia_activate_seconds': None,\n",
       " 'pyjulia_include_model_seconds': None,\n",
       " 'pyjulia_make_model_seconds': None,\n",
       " 'pyjulia_include_reopt_seconds': None,\n",
       " 'pyjulia_run_reopt_seconds': 7.032681226730347,\n",
       " 'julia_input_construction_seconds_bau': 0.0049779415130615234,\n",
       " 'julia_reopt_preamble_seconds_bau': 9.799003601074219e-05,\n",
       " 'julia_reopt_variables_seconds_bau': 0.6526567935943604,\n",
       " 'julia_reopt_constriants_seconds_bau': 0.8674979209899902,\n",
       " 'julia_reopt_optimize_seconds_bau': 0.1654529571533203,\n",
       " 'julia_reopt_postprocess_seconds_bau': 0.863516092300415,\n",
       " 'pyjulia_start_seconds_bau': 0.0,\n",
       " 'pyjulia_pkg_seconds_bau': 0.0,\n",
       " 'pyjulia_activate_seconds_bau': 0.0,\n",
       " 'pyjulia_include_model_seconds_bau': 0.0,\n",
       " 'pyjulia_make_model_seconds_bau': 0.0,\n",
       " 'pyjulia_include_reopt_seconds_bau': 0.0,\n",
       " 'pyjulia_run_reopt_seconds_bau': 2.6036264896392822}"
      ]
     },
     "execution_count": 22,
     "metadata": {},
     "output_type": "execute_result"
    }
   ],
   "source": [
    "techs = [\"PV\", \"Storage\", \"CHP\", \"AbsorptionChiller\", \"HotTES\", \"ColdTES\", \"Wind\"]\n",
    "for t in techs:\n",
    "    for key, value in api_response['outputs']['Scenario']['Site'][t].items():\n",
    "        if key.startswith(\"size\"):\n",
    "            print(t + \" \" + key + \" = \" + str(api_response['outputs']['Scenario']['Site'][t][key]))\n",
    "api_response['outputs']['Scenario']['Profile']"
   ]
  },
  {
   "cell_type": "code",
   "execution_count": null,
   "metadata": {},
   "outputs": [],
   "source": [
    "#api_response['outputs']['Scenario']['Site']['AbsorptionChiller']['size_ton']#['year_one_absorp_chl_thermal_consumption_series_mmbtu_per_hr']\n",
    "#max(api_response['outputs']['Scenario']['Site']['AbsorptionChiller']['year_one_absorp_chl_thermal_consumption_series_mmbtu_per_hr'])\n",
    "#max(api_response['outputs']['Scenario']['Site']['Boiler']['year_one_boiler_thermal_production_series_mmbtu_per_hr'])\n",
    "#max(api_response['outputs']['Scenario']['Site']['LoadProfileBoilerFuel']['year_one_boiler_thermal_load_series_mmbtu_per_hr'])#['loads_mmbtu_per_hr']))\n",
    "#max(api_response['outputs']['Scenario']['Site']['Boiler']['year_one_boiler_thermal_production_series_mmbtu_per_hr'])\n",
    "#api_response['messages']\n",
    "api_response['outputs']['Scenario']['Site']['LoadProfileBoilerFuel'].keys()\n",
    "fuel = api_response['outputs']['Scenario']['Site']['CHP']['year_one_fuel_used_mmbtu']\n",
    "elec = api_response['outputs']['Scenario']['Site']['CHP']['year_one_electric_energy_produced_kwh']\n",
    "therm_prod = api_response['outputs']['Scenario']['Site']['CHP']['year_one_thermal_energy_produced_mmbtu']\n",
    "therm_waste = sum(['year_one_thermal_to_waste_series_mmbtu_per_hour'])\n",
    "effic = (elec * 3412 / 1E6 + therm_prod) / fuel\n",
    "effic_max = (elec * 3412 / 1E6 + therm_prod + therm_waste) / fuel\n",
    "print(\"effic = \", effic)\n",
    "print(\"effic_max = \", effic_max)\n",
    "print(\"therm_util = \", therm_prod / (therm_prod + therm_waste))\n",
    "# api_response['outputs']['Scenario']['Site']['ElectricTariff']\n",
    "# api_response['inputs']['Scenario']['Site']['ElectricChiller']"
   ]
  },
  {
   "cell_type": "markdown",
   "metadata": {},
   "source": [
    "## Save API response and scenario data into a .pickle file for later use"
   ]
  },
  {
   "cell_type": "code",
   "execution_count": null,
   "metadata": {},
   "outputs": [],
   "source": [
    "save_directory = 'saved_results/'\n",
    "pickle_file = 'api_response_description'\n",
    "with open(save_directory + pickle_file + '.pickle', 'wb') as handle:\n",
    "    pickle.dump(api_response, handle, protocol=pickle.HIGHEST_PROTOCOL)"
   ]
  },
  {
   "cell_type": "markdown",
   "metadata": {},
   "source": [
    "## Extract relevant data and assign object names to them"
   ]
  },
  {
   "cell_type": "code",
   "execution_count": null,
   "metadata": {},
   "outputs": [],
   "source": [
    "#Olis\n",
    "load_year = str(api_response['inputs']['Scenario']['Site']['LoadProfile']['year'])\n",
    "dti = pd.date_range( load_year +'-01-01', periods=8760, freq='H')\n",
    "#bau_grid_load_less_chiller_hrly = pd.DataFrame(api_response['inputs']['Scenario']['Site']\n",
    "#                                               ['LoadProfile']['loads_kw'], index = dti)\n",
    "bau_boiler_load_fuel_hrly = pd.DataFrame(api_response['inputs']['Scenario']['Site']\n",
    "                                         ['LoadProfileBoilerFuel']['loads_mmbtu_per_hour'], index = dti)\n",
    "# bau_chiller_load_elec_hrly = pd.DataFrame(api_response['inputs']['Scenario']['Site']\n",
    "#                                           ['LoadProfileChillerElectric']['loads_kw'], index = dti)\n",
    "boiler_eff = api_response['inputs']['Scenario']['Site']['Boiler']['boiler_efficiency']\n",
    "\n",
    "bau_grid_load_hrly = bau_grid_load_less_chiller_hrly + bau_chiller_load_elec_hrly\n",
    "bau_grid_load_peak = np.max(bau_grid_load_hrly)\n",
    "bau_grid_load_mean = np.mean(bau_grid_load_hrly)\n",
    "bau_grid_load_total = np.sum(bau_grid_load_hrly)\n",
    "bau_therm_load_peak = np.max(bau_boiler_load_fuel_hrly)*boiler_eff #converted units of fuel to units of heat\n",
    "bau_therm_load_mean = np.mean(bau_boiler_load_fuel_hrly)*boiler_eff\n",
    "bau_therm_load_total = np.sum(bau_boiler_load_fuel_hrly)*boiler_eff\n",
    "chp_therm_to_elec_full_load = chp_therm_eff_full_load/chp_elec_eff_full_load\n",
    "\n",
    "\n",
    "chp_elec_total_hrly = pd.DataFrame(api_response['outputs']['Scenario']['Site']['CHP']\n",
    "                                   ['year_one_electric_production_series_kw'], index = dti)\n",
    "chp_therm_to_load_hrly = pd.DataFrame(api_response['outputs']['Scenario']['Site']['CHP']\n",
    "                                      ['year_one_thermal_to_load_series_mmbtu_per_hour'], index = dti)\n",
    "chp_therm_to_TES_hrly = pd.DataFrame(api_response['outputs']['Scenario']['Site']['CHP']\n",
    "                                     ['year_one_thermal_to_tes_series_mmbtu_per_hour'], index = dti)\n",
    "chp_therm_total_hrly = chp_therm_to_load_hrly + chp_therm_to_TES_hrly\n",
    "chp_fuel_annual = api_response['outputs']['Scenario']['Site']['CHP']['year_one_fuel_used_mmbtu']\n",
    "chp_elec_effic = np.sum(chp_elec_total_hrly)/(chp_fuel_annual * 1E6/3412.0)\n",
    "chp_total_effic = (np.sum(chp_elec_total_hrly) + np.sum(chp_therm_total_hrly)* 1E6/3412.0)/(chp_fuel_annual * 1E6/3412.0)\n",
    "chp_elec_cf = np.sum(chp_elec_total_hrly)/(chp_size_kwe*8760)\n",
    "chp_avg_load_when_on = chp_elec_total_hrly[chp_elec_total_hrly>1].mean()\n",
    "boiler_fuel_hrly = pd.DataFrame(api_response['outputs']['Scenario']['Site']['Boiler']\n",
    "                                ['year_one_boiler_fuel_consumption_series_mmbtu_per_hr'], index = dti)\n",
    "boiler_fuel_annual = boiler_fuel_hrly.resample('Y').sum()\n",
    "\n",
    "#chp_annual_runhrs = np.count_nonzero(chp_elec_total_hourly)\n",
    "chp_annual_runhrs = np.sum(chp_elec_total_hrly>1) #alternative to np.count_nonzero to eliminate very small numbers. Sums the number of TRUE\n",
    "#chp_annual_runhrs = chp_elec_total_hourly[chp_elec_total_hourly>1].count() #alternative to np.count_nonzero to eliminate very small numbers\n",
    "chp_elec_cf_when_on = chp_avg_load_when_on/chp_size_kwe\n",
    "chp_annual_heatinghrs = np.sum(chp_therm_total_hrly>0.01) #alternative to np.count_nonzero to eliminate very small numbers\n",
    "chp_capacity_elec_to_load_peak = chp_size_kwe/bau_grid_load_peak\n",
    "chp_capacity_elec_to_load_mean = chp_size_kwe/bau_grid_load_mean\n",
    "chp_capacity_therm_to_load_peak = chp_size_kwe*chp_therm_to_elec_full_load/(bau_therm_load_peak*1e6/3412)\n",
    "chp_capacity_therm_to_load_mean = chp_size_kwe*chp_therm_to_elec_full_load/(bau_therm_load_mean*1e6/3412)\n",
    "\n",
    "load_hours_less_than_chp_capacity = np.sum(bau_grid_load_hrly < chp_size_kwe)\n",
    "\n",
    "#find base load of bau_grid_load_hrly. Using value with 85% exceedance as described in ASHRAE 'Combined Heat and Power Design Guide' \n",
    "base_load_site_elec = bau_grid_load_hrly.sort_values(0, ascending = False).iloc[int(8760*.85)-1]\n",
    "base_load_site_therm = bau_boiler_load_fuel_hrly.sort_values(0, ascending = False).iloc[int(8760*.85)-1]/boiler_eff\n",
    "chp_capacity_elec_to_base_load = chp_size_kwe/base_load_site_elec\n",
    "chp_capacity_therm_to_base_load = chp_size_kwe*chp_therm_to_elec_full_load/(base_load_site_therm*1e6/3412)\n",
    "chp_gen_elec_to_load = chp_elec_total_hrly.resample('Y').sum()/bau_grid_load_hrly.resample('Y').sum()\n",
    "chp_gen_therm_to_load = chp_therm_total_hrly.resample('Y').sum()/(bau_boiler_load_fuel_hrly.resample('Y').sum()*boiler_eff)\n",
    "#net_fuel_consumption_change = \n",
    "\n",
    "print(\"Annual CHP Electric Efficiency =\", '%.3f' %chp_elec_effic)\n",
    "print(\"Annual CHP Total Efficiency =\", '%.3f' %chp_total_effic)\n",
    "print(\"Annual CHP Elec Capacity Factor =\", '%.2f' %chp_elec_cf)\n",
    "print(\"Annual CHP Elec Capacity Factor when running =\", '%.2f' %chp_elec_cf_when_on)\n",
    "print(\"Annual CHP run hours =\", '%.0f' %chp_annual_runhrs, \"(fraction\",'%.2f'%(chp_annual_runhrs/8760), \")\")\n",
    "print(\"Annual CHP hours of useful heat =\", '%.0f' %chp_annual_heatinghrs, \"(fraction\",'%.2f'%(chp_annual_heatinghrs/8760), \")\")\n",
    "print(\"Annual CHP mean power output when on =\", '%.0f' %chp_avg_load_when_on, \"kW\")\n",
    "print(\"Elec peak load =\", '%.0f' %bau_grid_load_peak, \"kW\")\n",
    "print(\"Elec mean load =\", '%.0f' %bau_grid_load_mean, \"kW\")\n",
    "print(\"Elec base load =\", '%.0f' %base_load_site_elec, \"kW (85% exceedance value)\")\n",
    "print(\"Heating peak load =\", '%.2f' %bau_therm_load_peak, \"MMBtu\")\n",
    "print(\"Heating mean load =\", '%.2f' %bau_therm_load_mean, \"MMBtu\")\n",
    "print(\"Heating base load =\", '%.2f' %base_load_site_therm, \"MMBtu (85% exceedance value)\")\n",
    "print(\"Ratio of CHP elec capacity to peak elec load =\", '%.3f' %chp_capacity_elec_to_load_peak)\n",
    "print(\"Ratio of CHP elec capacity to mean elec load =\", '%.3f' %chp_capacity_elec_to_load_mean)\n",
    "print(\"Ratio of CHP elec capacity to base elec load =\", '%.2f' %chp_capacity_elec_to_base_load)\n",
    "print(\"Ratio of CHP therm capacity to peak heat load =\", '%.3f' %chp_capacity_therm_to_load_peak)\n",
    "print(\"Ratio of CHP therm capacity to mean heat load =\", '%.3f' %chp_capacity_therm_to_load_mean)\n",
    "print(\"Ratio of CHP therm capacity to base heat load =\", '%.3f' %chp_capacity_therm_to_base_load)\n",
    "print(\"Useful heat recovery ratio =\", '%.3f' )\n",
    "print(\"Annual fraction of site elec load served by CHP =\", '%.3f' %chp_gen_elec_to_load.iloc[0][0])\n",
    "print(\"Annual fraction of site thermal load served by CHP =\", '%.3f' %chp_gen_therm_to_load.iloc[0][0])\n"
   ]
  },
  {
   "cell_type": "markdown",
   "metadata": {},
   "source": [
    "## ==============================================================="
   ]
  },
  {
   "cell_type": "markdown",
   "metadata": {},
   "source": [
    "## Example from Josiah for how to setup batch API calls"
   ]
  },
  {
   "cell_type": "markdown",
   "metadata": {},
   "source": [
    "## Comparing DOE Reference Buildings"
   ]
  },
  {
   "cell_type": "code",
   "execution_count": null,
   "metadata": {},
   "outputs": [],
   "source": [
    "doe_list = ['RetailStore', 'StripMall', 'Warehouse', 'Supermarket']"
   ]
  },
  {
   "cell_type": "code",
   "execution_count": null,
   "metadata": {
    "scrolled": false
   },
   "outputs": [],
   "source": [
    "api_response_dict = dict()\n",
    "\n",
    "for name in doe_list:\n",
    "    newpost = post\n",
    "    newpost['Scenario']['Site'][\"LoadProfile\"][\"doe_reference_name\"] = name\n",
    "    \n",
    "    print('Beginning Scenario:', name)\n",
    "    api_response = reo_optimize_localhost(newpost)\n",
    "    api_response_dict[name] = api_response\n",
    "    \n",
    "    if api_response['outputs']['Scenario']['status'] != 'optimal':\n",
    "        print('non-optimial solution')"
   ]
  },
  {
   "cell_type": "code",
   "execution_count": null,
   "metadata": {},
   "outputs": [],
   "source": [
    "results_dict['RetailStore']['outputs']"
   ]
  }
 ],
 "metadata": {
  "@webio": {
   "lastCommId": null,
   "lastKernelId": null
  },
  "kernelspec": {
   "display_name": "Python 3",
   "language": "python",
   "name": "python3"
  },
  "language_info": {
   "codemirror_mode": {
    "name": "ipython",
    "version": 3
   },
   "file_extension": ".py",
   "mimetype": "text/x-python",
   "name": "python",
   "nbconvert_exporter": "python",
   "pygments_lexer": "ipython3",
   "version": "3.7.1"
  },
  "latex_envs": {
   "LaTeX_envs_menu_present": true,
   "autoclose": false,
   "autocomplete": true,
   "bibliofile": "biblio.bib",
   "cite_by": "apalike",
   "current_citInitial": 1,
   "eqLabelWithNumbers": true,
   "eqNumInitial": 1,
   "hotkeys": {
    "equation": "Ctrl-E",
    "itemize": "Ctrl-I"
   },
   "labels_anchors": false,
   "latex_user_defs": false,
   "report_style_numbering": false,
   "user_envs_cfg": false
  }
 },
 "nbformat": 4,
 "nbformat_minor": 2
}
